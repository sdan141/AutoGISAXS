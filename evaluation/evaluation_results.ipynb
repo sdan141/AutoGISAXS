{
 "cells": [
  {
   "cell_type": "code",
   "execution_count": 1,
   "id": "2f1ed178-7472-4cd9-9268-6b5124d1f4df",
   "metadata": {},
   "outputs": [],
   "source": [
    "import sys \n",
    "path_project = '/home/danshach/pot_store/gpfs_scratch/Xalantir'\n",
    "sys.path.insert(1, path_project)\n",
    "import numpy as np\n",
    "import pandas as pd\n",
    "import matplotlib\n",
    "from matplotlib import pyplot as plt\n",
    "from cycler import cycler\n",
    "from matplotlib import patches\n",
    "from glob import glob\n",
    "import re\n",
    "import json\n",
    "from matplotlib.lines import Line2D\n",
    "from matplotlib.patches import Patch\n",
    "\n"
   ]
  },
  {
   "cell_type": "markdown",
   "id": "f94ffff1-3cff-460b-beff-1c7ce9195b56",
   "metadata": {},
   "source": [
    "Modification for Legend handler from https://stackoverflow.com/users/565697/gyger"
   ]
  },
  {
   "cell_type": "code",
   "execution_count": 46,
   "id": "9e480781-cd2d-436c-9195-18ee7f32d6bc",
   "metadata": {},
   "outputs": [],
   "source": [
    "from matplotlib.legend_handler import HandlerTuple\n",
    "\n",
    "class HandlerTupleVertical(HandlerTuple):\n",
    "    def __init__(self, **kwargs):\n",
    "        HandlerTuple.__init__(self, **kwargs)\n",
    "\n",
    "    def create_artists(self, legend, orig_handle,\n",
    "                       xdescent, ydescent, width, height, fontsize, trans):\n",
    "        # How many lines are there.\n",
    "        numlines = len(orig_handle)\n",
    "        handler_map = legend.get_legend_handler_map()\n",
    "\n",
    "        # divide the vertical space where the lines will go\n",
    "        # into equal parts based on the number of lines\n",
    "        height_y = (height / numlines)\n",
    "\n",
    "        leglines = []\n",
    "        for i, handle in enumerate(orig_handle):\n",
    "            handler = legend.get_legend_handler(handler_map, handle)\n",
    "\n",
    "            legline = handler.create_artists(legend, handle,\n",
    "                                             xdescent,\n",
    "                                             (2*i + 1)*height_y,\n",
    "                                             width,\n",
    "                                             2*height,\n",
    "                                             fontsize, trans)\n",
    "            leglines.extend(legline)\n",
    "\n",
    "        return leglines"
   ]
  },
  {
   "cell_type": "code",
   "execution_count": 4,
   "id": "5d01c18c-cb88-4dac-b39f-f86f296eb4ce",
   "metadata": {
    "tags": []
   },
   "outputs": [],
   "source": [
    "path_results = path_project + '/results/'\n",
    "results_round_mode = 'best' # 'average'\n"
   ]
  },
  {
   "cell_type": "markdown",
   "id": "55b5ad2c-76e8-4851-8c92-660823429830",
   "metadata": {},
   "source": [
    "### Matplotlib figure style ###"
   ]
  },
  {
   "cell_type": "code",
   "execution_count": 5,
   "id": "93dfa96a-8f0a-4197-ad43-1d99a6235288",
   "metadata": {
    "jupyter": {
     "source_hidden": true
    }
   },
   "outputs": [],
   "source": [
    "#font = {'family' : 'sans-serif',\n",
    " #normal',\n",
    "  #14}\n",
    "\n",
    "#matplotlib.rc('font', **font)      'size'   :        'weight' : '\n",
    "pt = 1./72.27 # Hundreds of years of history... 72.27 points to an inch.\n",
    "jour_sizes = {\"PRD\": {\"onecol\": 246.*pt, \"twocol\": 510.*pt},\n",
    "              \"CQG\": {\"onecol\": 374.*pt}, # CQG is only one column\n",
    "              # Add more journals below. Can add more properties to each journal\n",
    "             }\n",
    "my_width = jour_sizes[\"PRD\"][\"onecol\"]\n",
    "#my_width = jour_sizes[\"\"]\n",
    "\n",
    "# Our figure's aspect ratio\n",
    "golden = (1 + 5 ** 0.5) / 2\n",
    "plt.style.use(\"thesis.mplstyle\")\n",
    "#plt.style.use('ggplot')\n"
   ]
  },
  {
   "cell_type": "markdown",
   "id": "9bb66745-c5d7-4d27-be53-0cf57403791d",
   "metadata": {},
   "source": [
    "## Run Class ##"
   ]
  },
  {
   "cell_type": "code",
   "execution_count": 34,
   "id": "d17d0007-aa27-4771-8113-a1943e082f10",
   "metadata": {
    "tags": []
   },
   "outputs": [],
   "source": [
    "class Run:\n",
    "    def __init__(self, run, run_id, param=None):\n",
    "        self.morphology = run.morphology\n",
    "        self.algorithm = run.algorithm\n",
    "        self.id = run_id\n",
    "        self.folder =  path_project + '/results/' + '_'.join(self.morphology) + '/' + self.algorithm + '/run_' + self.id\n",
    "        self.param_to_compare = self.get_run_config(param)\n",
    "        self.get_results_round(mode='acc_validation')\n",
    "        #self.config = self.get_run_config()\n",
    "    \n",
    "    def get_run_config(self, param=None):\n",
    "        with open(self.folder + '/config.json', 'r') as file:\n",
    "            config_data = json.load(file)\n",
    "        if param != None:\n",
    "            param_to_compare = next((inner_dict[param] for inner_dict in config_data.values() if param in inner_dict), None)\n",
    "            return param_to_compare\n",
    "        else:\n",
    "            return config_data\n",
    "    \n",
    "    def get_results_round(self, mode):\n",
    "        model_scores = pd.read_csv(self.folder + '/model_scores.csv')\n",
    "        best_round = model_scores.expected_MSE.idxmin()\n",
    "        self.folder_run = self.folder\n",
    "        self.folder += '/round_' + str(best_round)\n",
    "    \n",
    "    def get_simulation_prediction_values(self, morphology):\n",
    "        file_path = self.folder + '/' + morphology + '_predictions_test_sim.csv'\n",
    "        df = pd.read_csv(file_path, index_col=0)\n",
    "        return df\n",
    "\n",
    "    def get_simulation_prediction_values_all_rounds(self, morphology=None):\n",
    "        dfs = []\n",
    "        if not morphology: morphology= self.morphology[0]\n",
    "        files = self.folder_run + '/round_*/' + morphology + '_predictions_test_sim.csv'\n",
    "        files = sorted(glob(files))\n",
    "\n",
    "        for file_path in files:\n",
    "            df = pd.read_csv(file_path, index_col=0)\n",
    "            dfs.append(df)\n",
    "        return dfs\n",
    "    \n",
    "    def get_experiment_prediction_values(self, morphology=None, max_thickness=6.0):\n",
    "        tests = {}\n",
    "        if not morphology: morphology= self.morphology[0]\n",
    "        test_experiment_files = self.folder + '/' + morphology + '_predictions_test_experiment_*.csv' \n",
    "        test_experiment_files = sorted(glob(test_experiment_files))\n",
    "        find_test_name_in_pattern = re.compile(r'experiment_(.*?)\\.csv')\n",
    "        for file_path in test_experiment_files:\n",
    "            test_name = find_test_name_in_pattern.search(file_path).group(1)\n",
    "            df = pd.read_csv(file_path, index_col=0)\n",
    "            if max_thickness:\n",
    "                df = df[df['thickness']<=max_thickness]\n",
    "            tests[test_name] = df\n",
    "        return tests\n",
    "    \n",
    "    def get_experiment_prediction_values_all_rounds(self, morphology=None, max_thickness=6.0, mode=None):\n",
    "        tests = {}\n",
    "        if not morphology: morphology= self.morphology[0]\n",
    "        \n",
    "        test_experiment_files = self.folder_run + '/round_*/' + morphology + '_predictions_test_experiment_*.csv' \n",
    "        test_experiment_files = sorted(glob(test_experiment_files))\n",
    "        find_test_name_in_pattern = re.compile(r'experiment_(.*?)\\.csv')\n",
    "        for file_path in test_experiment_files:\n",
    "            test_name = find_test_name_in_pattern.search(file_path).group(1)\n",
    "            if test_name not in tests:\n",
    "                tests[test_name] = []\n",
    "            df = pd.read_csv(file_path, index_col=0)\n",
    "            if max_thickness:\n",
    "                df = df[df['thickness']<=max_thickness]\n",
    "            tests[test_name].append(df)\n",
    "        return tests\n",
    "    \n",
    "    def get_morphology_interval(self, morphology):\n",
    "        config_data = self.get_run_config()\n",
    "        n_output_units = config_data[\"algorithm_parameters\"][\"output_units\"][morpgology]\n",
    "        if morphology == 'radius':\n",
    "            return np.round(np.linspace(1.2, 28.1, n_output_units),1)\n",
    "        if morphology == 'distance':\n",
    "            return np.round(np.linspace(3.8, 41.7, n_output_units),1)\n",
    "        \n",
    "    def estimate_accuracy(self, thresh=1.25):\n",
    "        prediction_values = self.get_experiment_prediction_values_all_rounds()\n",
    "        estimate_single = {}\n",
    "        estimate_all = 0\n",
    "        for measurement, dfs in prediction_values.items():\n",
    "            estimate_single[measurement] = []\n",
    "            for df in dfs:\n",
    "                n_correct = sum([1 for i in range(len(df)) if df['avg'][i]-thresh <= df['gt'][i] <= df['avg'][i]+thresh])\n",
    "                estimate_single[measurement].append(np.round(n_correct/len(df),2))\n",
    "        print(estimate_single)\n",
    "        means = []\n",
    "        for m in estimate_single:\n",
    "            print(m)\n",
    "            mean = np.round(np.mean(estimate_single[m]),2)\n",
    "            means.append(mean)\n",
    "            print(f\"mean: {mean}\")\n",
    "            std = np.round(np.std(estimate_single[m]),2)\n",
    "            print(f\"std: {std}\")\n",
    "        print(f'over all mean: {np.round(np.mean(means),2)}, std: {np.round(np.std(means),2)}')\n",
    "\n",
    "\n",
    "def darken_color(hex_color, factor=0.6):\n",
    "    \"\"\" darkens the given hex color by blending with black \"\"\"\n",
    "    rgb = matplotlib.colors.hex2color(hex_color)\n",
    "    darkened_rgb = [(1 - factor) * c for c in rgb]\n",
    "    return matplotlib.colors.to_hex(darkened_rgb)\n"
   ]
  },
  {
   "cell_type": "markdown",
   "id": "eb45c62f-51d1-4498-a092-f4d449698676",
   "metadata": {},
   "source": [
    "## Evaluation Class ##"
   ]
  },
  {
   "cell_type": "code",
   "execution_count": 43,
   "id": "4350bda9-3452-41ad-9679-41c1424ee4e8",
   "metadata": {
    "tags": []
   },
   "outputs": [],
   "source": [
    "class Evaluation_Results:\n",
    "    def __init__(self, runs_map_df, param=None):\n",
    "        self.runs_map = runs_map_df\n",
    "        self.runs = self.get_runs(param)\n",
    "    \n",
    "    def get_runs(self, param=None):\n",
    "        runs = []\n",
    "        for i in range(len(self.runs_map)):\n",
    "            trial = self.runs_map.loc[i]\n",
    "            for run_id in trial.id_runs:\n",
    "                run = Run(run=trial, run_id=run_id, param=param)\n",
    "                runs.append(run)\n",
    "        return runs\n",
    "                \n",
    "    def plot_simulation_predictions_with_std(self, runs=None, single_plots=True, save=False, compare='loss', thresh=0.5, desc=None, params=None, title=None):\n",
    "        # plot the prediction curves for the morphology with ground truth if given\n",
    "        #if runs is None that plot all runs\n",
    "        runs = self.runs if not runs else [self.runs[i] for i in range(len(self.runs)) if self.runs[i].id in runs]\n",
    "        # gather all data for plots\n",
    "        runs_prediction_values = {}\n",
    "        for run in runs:\n",
    "            for morphology in run.morphology:\n",
    "                prediction_values_dfs = run.get_simulation_prediction_values_all_rounds(morphology)\n",
    "                if morphology not in runs_prediction_values:\n",
    "                    runs_prediction_values[morphology] = {}\n",
    "                    \n",
    "                max_valus = []\n",
    "                avg_valus = []\n",
    "                estimation = []\n",
    "                for prediction_values in prediction_values_dfs:\n",
    "                    max_valus.append(prediction_values['max'])\n",
    "                    avg_valus.append(prediction_values['avg'])\n",
    "                    \n",
    "                    estimation.append( \\\n",
    "                        sum([1 for i in range(len(prediction_values['max'])) \\\n",
    "                             if prediction_values['max'][i]-thresh <= prediction_values['gt'][i] <= prediction_values['max'][i]+thresh])/len(prediction_values['max']))\n",
    "                    # estimation.append( \\\n",
    "                    #     sum([1 for i in range(len(prediction_values['avg'])) \\\n",
    "                    #          if prediction_values['avg'][i]-thresh <= prediction_values['gt'][i] <= prediction_values['avg'][i]+thresh])/len(prediction_values['avg']))\n",
    "\n",
    "                max_values_avg = np.mean(max_valus, axis=0)\n",
    "                avg_valus_avg = np.mean(avg_valus, axis=0)\n",
    "                estimation = np.mean(estimation)\n",
    "                estimation_std = np.std(estimation)\n",
    "                max_values_std = np.std(max_valus, axis=0)\n",
    "                avg_valus_std = np.std(avg_valus, axis=0)\n",
    "                \n",
    "                runs_prediction_values[morphology][run.id] = {\n",
    "                    'config': run.param_to_compare,\n",
    "                    'algorithm': run.algorithm,\n",
    "                    'max_weight': max_values_avg, \n",
    "                    'max_std': max_values_std,\n",
    "                    'expected': avg_valus_avg,\n",
    "                    'expected_std': avg_valus_std,\n",
    "                    'ground_truth': prediction_values['gt'].to_numpy(),\n",
    "                    'estimation': estimation,\n",
    "                    'estimation_std': estimation_std\n",
    "                    }\n",
    "                sorted_idx = np.argsort(runs_prediction_values[morphology][run.id]['ground_truth'])\n",
    "                for key in ['ground_truth', 'max_weight','max_std', 'expected', 'expected_std']:\n",
    "                    runs_prediction_values[morphology][run.id][key] = runs_prediction_values[morphology][run.id][key][sorted_idx]\n",
    "\n",
    "        for morphology, run_data in runs_prediction_values.items(): # run_data = {run_id_1:{...}, run_id_2:{...}}\n",
    "            if morphology == 'radius':\n",
    "                min_scope = 1.2#2.5#\n",
    "                max_scope = 7.5#7.1#\n",
    "            elif morphology == 'distance':\n",
    "                min_scope = 6.0#2.5#for run_id, values in run_data.items():\n",
    "                max_scope = 15.0#7.1#\n",
    "            \n",
    "            plt.figure(figsize = (my_width, my_width/golden))  \n",
    "            plt.gca().xaxis.set_major_locator(plt.MaxNLocator(integer=True))\n",
    "            colors = [matplotlib.colors.to_hex(plt.cm.tab10(i)) for i in range(10)]\n",
    "\n",
    "            for i, (run_id, values) in enumerate(run_data.items()): # values = {ground_truth:[....], expected:[.....], ....}\n",
    "                xs = []\n",
    "                #for idx, (run_id, values) in enumerate(run_data.items()):\n",
    "                    \n",
    "                if not params:\n",
    "                    k = 'run'\n",
    "                    v =  run_id\n",
    "                else:\n",
    "                    k = list(params.keys())[0]\n",
    "                    v = params[k][i]\n",
    "                        \n",
    "                x = np.arange(len(values['max_weight']))\n",
    "                if len(x)>len(xs): \n",
    "                    xs = x\n",
    "                color = colors[i]\n",
    "                    #plt.plot(x, values['expected'], label=f'expected ({values[\"algorithm\"]}_run_{run_id}), acc={np.round(values[\"estimation\"],2)}', marker='.',markersize=0.5, color=color)#, linestyle='--'\n",
    "                #plt.plot(x, values['expected'], label=fr'{k}={v:.0e} average, acc={np.round(values[\"estimation\"],2)}',markersize=2, color=colors[idx], linewidth=2.0)#,marker=markercycle[idx])\n",
    "                plt.plot(x, values['expected'], label=fr'average',color=color,linewidth=0.5,linestyle=':',alpha=0.6)#,marker=markercycle[idx])\n",
    "                \n",
    "                plt.fill_between(x, values['expected']-values['expected_std'], values['expected']+values['expected_std'], color=color,linewidth=0, alpha=0.3)\n",
    "                \n",
    "                plt.plot(x, values['max_weight'], label=fr'max_weight, {k}: {v}, acc={np.round(values[\"estimation\"],2)*100}\\%',color=color,linewidth=2.0,markersize=2)#, linestyle=':'\n",
    "                    #plt.plot(x, values['max_weight'], label=fr'max_weight, {k}={v:.0e}, acc={np.round(values['estimation'],2)*100}\\%',color=color,linewidth=2.0,markersize=2)#, linestyle=':'\n",
    "\n",
    "                    #plt.plot(x, values['ground_truth'], label=f'ground_truth ({values[\"algorithm\"]}_run_{run_id})', marker='.',markersize=0.5, color=darken_color(color))#, linestyle='-'\n",
    "            plt.plot(xs, values['ground_truth'], label=f'ground_truth', marker='.',markersize=0.5, color='k')#, linestyle='-'\n",
    "               \n",
    "            plt.xlabel('Simulation Nr.')\n",
    "            plt.ylabel(morphology + ' (nm)')\n",
    "            \n",
    "            #plt.title(fr'{morphology.title()} predictions - simulated data - loss: {\"$\\mathcal{L}_{CCE}$\"}+{k}{\"$R_{info}$\"}')\n",
    "            if not title:\n",
    "                plt.title(f'{morphology.title()} predictions - simulated data - loss: $\\mathcal{{L}}_{{CCE}}$ + {k}$R_{{mono}}$')\n",
    "            else:\n",
    "                plt.title(f'{morphology.title()} predictions - simulated data - {title}')\n",
    "\n",
    "            #plt.title(f'{morphology.title()} predictions - simulated data - loss: $\\mathcal{{L}}_{{CCE}}$ + {k}$R_{{info}}$')\n",
    "            #plt.title(f'{morphology.title()} predictions - simulated data - $\\mathcal{{L}}_{{CCE}}$ vs. $\\mathcal{{L}}_{{MSE}}$')\n",
    "            \n",
    "            plt.legend(loc='upper left')\n",
    "            self.fill_between(xs, morphology)\n",
    "            plt.ylim((min_scope, 14 if morphology=='radius' else 25))\n",
    "            plt.xlim((0, len(values['expected'])))\n",
    "            if save:\n",
    "                plt.savefig(f'figures/{morphology}_simulation_{desc}.png')\n",
    "            plt.show()                               \n",
    "                \n",
    "    def plot_experiment_predictions_with_std(self, runs=None, estimate=True, thresh=0.5, save=False, desc=None, params=None, title='', colors=None): # params is a dictionary\n",
    "        # plot the prediction curves for the morphology with ground truth if given\n",
    "        #if runs is None that plot all runs\n",
    "        runs = self.runs if not runs else [self.runs[i] for i in range(len(self.runs)) if self.runs[i].id in runs]\n",
    "        \n",
    "        # gather all data for plots\n",
    "        runs_prediction_values = {}\n",
    "        # iterate runs\n",
    "        for run in runs:\n",
    "            # iterate run morphology\n",
    "            for morphology in run.morphology:\n",
    "                if morphology not in runs_prediction_values:\n",
    "                    # make new field for the morphology \n",
    "                    runs_prediction_values[morphology] = {}\n",
    "                # get dictionary of data frames for run's morphology measurement prediction values {'measurement_id':<pd.DataFrame>,...}\n",
    "                prediction_values_dfs = run.get_experiment_prediction_values_all_rounds(morphology) # returns: test[measurement] = [dfs]\n",
    "                # iterate measurements \n",
    "                for measurement in prediction_values_dfs:\n",
    "                    if run.id not in runs_prediction_values[morphology]:\n",
    "                        # make new field for the run \n",
    "                         runs_prediction_values[morphology][run.id] = {}\n",
    "                    # initialize main values dictionary for the plots\n",
    "                    max_valus = []\n",
    "                    avg_valus = []\n",
    "                    for prediction_values in prediction_values_dfs[measurement]:\n",
    "                        max_valus.append(prediction_values['max'])\n",
    "                        avg_valus.append(prediction_values['avg'])\n",
    "                    max_values_avg = np.mean(max_valus, axis=0)\n",
    "                    avg_valus_avg = np.mean(avg_valus, axis=0)\n",
    "                    max_values_std = np.std(max_valus, axis=0)\n",
    "                    avg_valus_std = np.std(avg_valus, axis=0)\n",
    "\n",
    "                    runs_prediction_values[morphology][run.id][measurement] = {\n",
    "                        'compare': run.param_to_compare,\n",
    "                        'algorithm': run.algorithm,\n",
    "                        'max_weight': max_values_avg, \n",
    "                        'max_std': max_values_std,\n",
    "                        'expected': avg_valus_avg,\n",
    "                        'expected_std': avg_valus_std,\n",
    "                        'ground_truth': prediction_values['gt'].to_numpy(),\n",
    "                        'thickness': prediction_values['thickness'].to_numpy()\n",
    "                        }\n",
    "        # iterate morphology parameter (key) and the associate runs (values)\n",
    "\n",
    "                    \n",
    "\n",
    "        for morphology, runs in runs_prediction_values.items():\n",
    "            if not colors:\n",
    "                colors = [matplotlib.colors.to_hex(plt.cm.tab10(i)) for i in range(10)] \n",
    "\n",
    "            for measurement in next(iter(runs.values())).keys():\n",
    "                #plt.figure(figsize = (my_width, my_width/golden), dpi=600)\n",
    "                plt.figure(figsize=(4.4,2.6),dpi=200)\n",
    "\n",
    "                #markercycle = cycler(marker=['o', '+', 'x', '*', '.', 'X'])\n",
    "                #markercycle = ['X', 'D', '^', 'P', '8', '*']\n",
    "                if not params:\n",
    "                    params = {'run': []}\n",
    "                gammas = [1e-5, 1e-3, 1e-1]\n",
    "                #colorcycle = cycler(color=['blue', 'orange', 'green', 'magenta'])\n",
    "                # Or use the default color cycle:\n",
    "                # colorcycle = cycler(color=plt.rcParams['axes.prop_cycle'].by_key()['color'])\n",
    "                #plt.gca().set_prop_cycle(colorcycle * markercycle) # \n",
    "                x = next(iter(runs.values()))[measurement]['thickness']\n",
    "                legend_elements = [Line2D([0], [0], color='k', linewidth=3.5, label='ground truth')]  # Ground truth\n",
    "                \n",
    "                for idx, (run_id, measurements) in enumerate(runs.items()):\n",
    "                    if not params:\n",
    "                        k = 'run'\n",
    "                        v =  run_id\n",
    "                    else:\n",
    "                        k = list(params.keys())[0]\n",
    "                        v = params[k][idx]\n",
    "                    values = measurements[measurement]\n",
    "                    estimation = sum([1 for i in range(len(values['expected'])) if values['expected'][i]-thresh <= values['ground_truth'][i] <= values['expected'][i]+thresh])/len(values['expected']) \n",
    "                    print(f\"{v} acc= {np.round(estimation,2)}\\n\")\n",
    "\n",
    "                    if idx==0:\n",
    "                        lineGt, = plt.plot(x, values['ground_truth'], label=f'ground truth', color='k', linewidth=3.5)#,markersize=3, marker='.')\n",
    "                    \n",
    "                    #plt.plot(x, values['expected'], label=fr'{k}={v:.0e} average, acc={np.round(estimation,2)}',markersize=2, color=colors[idx], linewidth=2.0)#,marker=markercycle[idx])\n",
    "                    #plt.plot(x, values['expected'], label=fr'average, {k}: {v}, acc={np.round(estimation,2)}',markersize=2, color=colors[idx], linewidth=2.0)#,marker=markercycle[idx])\n",
    "                    #plt.plot(x, values['expected'], label=fr'{v} prediction average',markersize=2, color=colors[idx], linewidth=2.0)\n",
    "                    lineEx, = plt.plot(x, values['expected'], label='solid',markersize=2, color=colors[idx], linewidth=2.0) #fr'{v}'\n",
    "                    plt.fill_between(x, values['expected']-values['expected_std'], values['expected']+values['expected_std'], color=colors[idx],linewidth=0, alpha=0.3)\n",
    "                    lineMw, = plt.plot(x, values['max_weight'],linestyle=':', alpha=0.3,markersize=1.0, color=colors[idx], linewidth=2, label=':')#,marker=markercycle[idx])\n",
    "                    #plt.plot(x, values['max_weight'], label=fr'prediction max weight',linestyle=':', alpha=0.3,markersize=1.0, color=colors[idx], linewidth=2)#,marker=markercycle[idx])\n",
    "                   \n",
    "                    legend_elements.append((lineEx, lineMw))\n",
    "\n",
    "                    #legend_elements.append(Line2D([0], [0], color=colors[idx], linewidth=2.0, linestyle=';', marker='|',label=fr'{v}'))\n",
    "\n",
    "                    #legend_elements.append(Line2D([0], [0], color=colors[idx], linewidth=2.0, label=fr'{v}')) \n",
    "                    #legend_elements.append(Line2D([0], [0], color=colors[idx], linewidth=2.0, linestyle=':', alpha=0.5))\n",
    "\n",
    "                #plt.legend(loc='upper center', bbox_to_anchor=(0.5, -0.1),\n",
    "               #       fancybox=True, shadow=True, ncol=round(np.sqrt(len(runs)))+1)\n",
    "                plt.xlabel('$\\delta$ [nm]')\n",
    "                plt.ylabel(f\"$\\\\mathit{{{morphology.title()[0]}}}$ [nm]\")\n",
    "                \n",
    "                #plt.title(f'{morphology.title()} - {measurement} - loss: $\\mathcal{{L}}_{{CCE}}+\\gamma*R_{{info}}$')\n",
    "                if title:\n",
    "                    plt.title(f'{morphology.title()} - {measurement} - {title}')\n",
    "\n",
    "                #plt.title(f'{morphology.title()} - {measurement} - loss: $\\mathcal{{L}}_{{CCE}}$+1e-03$R$')\n",
    "                #plt.title(fr'{morphology} - {measurement} - $\\sigma$/R=30% ')  - $\\sigma$/R=30\\%') # $\\sigma$/R=10\\%-35\\%') #\n",
    "                self.fill_between(x, morphology)\n",
    "                #legend_elements.append([Patch(facecolor='gray',alpha=0.3)])\n",
    "                if '100' in measurement:\n",
    "                    #print(legend_elements)\n",
    "                    #plt.legend(loc='upper left')\n",
    "                    #plt.legend(handles=legend_elements, loc='upper left')\n",
    "                    #print(['ground_truth'] + [l for li in params.values() for l in li])\n",
    "                    plt.legend(legend_elements, ['ground truth'] + [l for li in params.values() for l in li],\n",
    "                                handler_map = {tuple : HandlerTupleVertical()})\n",
    "\n",
    "                if save:\n",
    "                    plt.savefig(f'figures/{morphology}_{measurement}_{desc}.png',bbox_inches='tight', dpi=600)\n",
    "                else:\n",
    "                     plt.title(f'{morphology.title()} - {measurement}')\n",
    "                plt.show() \n",
    "\n",
    "\n",
    "    def plot_all_experiment_predictions_with_std(self, run=None, estimate=True, thresh=0.5, save=False, desc=None, params=None, title='', colors=None): # params is a dictionary\n",
    "        # plot the prediction curves for the morphology with ground truth if given\n",
    "        #if runs is None that plot all runs\n",
    "        run = self.runs[0] if not run else self.runs[run]\n",
    "        \n",
    "        # gather all data for plots\n",
    "        run_prediction_values = {}\n",
    "    \n",
    "        # iterate run morphology\n",
    "        for morphology in run.morphology:\n",
    "            if morphology not in run_prediction_values:\n",
    "                # make new field for the morphology \n",
    "                run_prediction_values[morphology] = {}\n",
    "            # get dictionary of data frames for run's morphology measurement prediction values {'measurement_id':<pd.DataFrame>,...}\n",
    "            prediction_values_dfs = run.get_experiment_prediction_values_all_rounds(morphology) # returns: test[measurement] = [dfs]\n",
    "            \n",
    "            # iterate measurements \n",
    "            for measurement in prediction_values_dfs:\n",
    "                max_valus = []\n",
    "                avg_valus = []\n",
    "                for prediction_values in prediction_values_dfs[measurement]:\n",
    "                    max_valus.append(prediction_values['max'])\n",
    "                    avg_valus.append(prediction_values['avg'])\n",
    "                max_values_avg = np.mean(max_valus, axis=0)\n",
    "                avg_valus_avg = np.mean(avg_valus, axis=0)\n",
    "                max_values_std = np.std(max_valus, axis=0)\n",
    "                avg_valus_std = np.std(avg_valus, axis=0)\n",
    "    \n",
    "                run_prediction_values[morphology][measurement] = {\n",
    "                    'compare': run.param_to_compare,\n",
    "                    'algorithm': run.algorithm,\n",
    "                    'max_weight': max_values_avg, \n",
    "                    'max_std': max_values_std,\n",
    "                    'expected': avg_valus_avg,\n",
    "                    'expected_std': avg_valus_std,\n",
    "                    'ground_truth': prediction_values['gt'].to_numpy(),\n",
    "                    'thickness': prediction_values['thickness'].to_numpy()\n",
    "                    }\n",
    "    \n",
    "        # Plot all measurements                 \n",
    "        for morphology in run_prediction_values:\n",
    "            if not colors:\n",
    "                colors = ['b','r','g','indigo']#[matplotlib.colors.to_hex(plt.cm.tab10(i)) for i in range(10)] \n",
    "            \n",
    "            plt.figure(figsize=(4.4,2.6),dpi=200)\n",
    "            for i, measurement in enumerate(run_prediction_values[morphology]):\n",
    "                print(measurement)                \n",
    "                params = run_prediction_values[morphology].keys()\n",
    "                x = run_prediction_values[morphology][measurement]['thickness']\n",
    "                legend_elements = []#[Line2D([0], [0], color=darken_color(colors[i]), linewidth=2.5, label='GT T=' + measurement[-4:])]  # Ground truth\n",
    "                \n",
    "                values = run_prediction_values[morphology][measurement]\n",
    "                lineGt, = plt.plot(x, values['ground_truth'], label=f'ground truth', color=darken_color(colors[i]), linewidth=2.5)#,markersize=3, marker='.')\n",
    "            \n",
    "                lineEx, = plt.plot(x, values['expected'], label='solid',markersize=2, color=colors[i], linewidth=2.0) #fr'{v}'\n",
    "                plt.fill_between(x, values['expected']-values['expected_std'], values['expected']+values['expected_std'], color=colors[i],linewidth=0, alpha=0.3)\n",
    "                lineMw, = plt.plot(x, values['max_weight'],linestyle=':', alpha=0.3,markersize=1.0, color=colors[i], linewidth=2, label=':')#,marker=markercycle[idx])\n",
    "                   \n",
    "                legend_elements.append((lineEx, lineMw))\n",
    "    \n",
    "                plt.xlabel('$\\delta$ [nm]')\n",
    "                plt.ylabel(f\"$\\\\mathit{{{morphology.title()[0]}}}$ [nm]\")\n",
    "                \n",
    "                self.fill_between(x, morphology)\n",
    "                \n",
    "            plt.legend(legend_elements, ['ground truth'] + [l for l in run_prediction_values[morphology].keys()],\n",
    "                                handler_map = {tuple : HandlerTupleVertical()})\n",
    "    \n",
    "                #if save:\n",
    "                #    plt.savefig(f'figures/{morphology}_{measurement}_{desc}.png',bbox_inches='tight', dpi=600)\n",
    "            plt.show() \n",
    "            \n",
    "                \n",
    "    def plot_real_predictions(self, runs=None, single_plots=True):\n",
    "        pass\n",
    "\n",
    "    def plot_simulation_prediction_2R_to_D(self, runs=None, single_plots=True):\n",
    "        runs = self.runs if not runs else [self.runs[i] for i in range(len(self.runs)) if self.runs[i].id in runs]\n",
    "        for run in runs:\n",
    "            for morphology in run.morphology:\n",
    "                prediction_values = run.get_simulation_prediction_values(morphology)\n",
    "                if morphology not in runs_prediction_values:\n",
    "                    runs_prediction_values[morphology] = {}\n",
    "                runs_prediction_values[morphology][run.id] = {\n",
    "                    'algorithm': run.algorithm,\n",
    "                    'max_weight': prediction_values['max'].to_numpy(), \n",
    "                    'expected': prediction_values['avg'].to_numpy(),\n",
    "                    'ground_truth': prediction_values['gt'].to_numpy()\n",
    "                    }\n",
    "        if ['distance','radius'] not in runs_prediction_values:\n",
    "            return 0\n",
    "        plot_values = []\n",
    "        for run_idr, radius_values in runs_prediction_values['radius'].items():\n",
    "            for run_idd, distance_values in runs_prediction_values['distance'].items():\n",
    "                values = {\n",
    "                    'expected_2R2D': radius_values['expected']*2 / distance_values['expected'],\n",
    "                    'true_2R2D': radius_values['ground_truth']*2 / distance_values['ground_truth'],\n",
    "                    'run_id_radius': run_idr,\n",
    "                    'run_id_distance': run_idd,\n",
    "                    'algorithm_radius': radius_values['algorithm'],\n",
    "                    'algorithm_distance': distance_values['algorithm']\n",
    "                }\n",
    "                plot_values.append(values)\n",
    "        if single_plots:\n",
    "            for values in plot_values:\n",
    "                pass\n",
    "    \n",
    "    def plot_experiment_prediction_2R_to_D(self, runs=None, single_plots=True, single_experiments=False, save=False):\n",
    "        runs = self.runs if not runs else [self.runs[i] for i in range(len(self.runs)) if self.runs[i].id in runs]\n",
    "        runs_prediction_values = {}\n",
    "        for run in runs:\n",
    "            for morphology in run.morphology:\n",
    "                prediction_values = run.get_experiment_prediction_values(morphology)\n",
    "                if morphology not in runs_prediction_values:\n",
    "                    runs_prediction_values[morphology] = {}\n",
    "                for measurement in prediction_values:\n",
    "                    if run.id not in runs_prediction_values[morphology]:\n",
    "                         runs_prediction_values[morphology][run.id] = {}\n",
    "                    runs_prediction_values[morphology][run.id][measurement] = {\n",
    "                        'algorithm': run.algorithm,\n",
    "                        'max_weight': prediction_values[measurement]['max'].to_numpy(), \n",
    "                        'expected': prediction_values[measurement]['avg'].to_numpy(),\n",
    "                        'ground_truth': prediction_values[measurement]['gt'].to_numpy(),\n",
    "                        'thickness': prediction_values[measurement]['thickness'].to_numpy()\n",
    "                        }\n",
    "        if not all(x in runs_prediction_values.keys() for x in ['distance','radius']):\n",
    "            return 0\n",
    "        \n",
    "        plot_values = {}\n",
    "        for run_idr, radius_values in runs_prediction_values['radius'].items():\n",
    "            # print(f'run_idr, radius_values: {run_idr}, {radius_values}')\n",
    "            for measurement in radius_values:\n",
    "                if measurement not in plot_values:\n",
    "                    plot_values[measurement] = []\n",
    "                for run_idd, distance_values in runs_prediction_values['distance'].items():\n",
    "                    values = {\n",
    "                        'thickness': distance_values[measurement]['thickness'],\n",
    "                        'expected_2R2D': radius_values[measurement]['expected']*2 / distance_values[measurement]['expected'],\n",
    "                        'true_2R2D': radius_values[measurement]['ground_truth']*2 / distance_values[measurement]['ground_truth'],\n",
    "                        'run_id_radius': run_idr,\n",
    "                        'run_id_distance': run_idd,\n",
    "                        'algorithm_radius': radius_values[measurement]['algorithm'],\n",
    "                        'algorithm_distance': distance_values[measurement]['algorithm']\n",
    "                    }\n",
    "                    plot_values[measurement].append(values)\n",
    "        for measurement, values_list in plot_values.items():\n",
    "            if single_plots:\n",
    "                for values in values_list:\n",
    "                    plt.figure(figsize=(8, 5))\n",
    "                    x = values['thickness']\n",
    "                    plt.plot(x, values['expected_2R2D'], label='average', color='g',linestyle='-',marker='.',markersize=2)\n",
    "                    plt.plot(x, values['true_2R2D'], label='ground truth', color='k',linestyle='-',marker='.',markersize=2)\n",
    "                    plt.ylabel('2R/D')\n",
    "                    plt.xlabel('layer thickness (nm)')\n",
    "                    plt.xlim(x.min(),x.max())\n",
    "                    plt.ylim(0.0,2.0)\n",
    "                    plt.legend()\n",
    "                    plt.tight_layout()\n",
    "                    plt.title(f'2R/D for {measurement}\\nradius {values[\"algorithm_radius\"]} - {values[\"run_id_radius\"]}, distance {values[\"algorithm_distance\"]} - {values[\"run_id_distance\"]}')\n",
    "                    plt.show()\n",
    "            else:\n",
    "                colors = [matplotlib.colors.to_hex(plt.cm.tab10(i)) for i in range(10)] \n",
    "                plt.figure(figsize=(8, 5))\n",
    "                for idx, values in enumerate(values_list):\n",
    "                    color = colors[idx]\n",
    "                    x = values['thickness']\n",
    "                    label_expected = f'Expected R - {values[\"algorithm_radius\"]} - {values[\"run_id_radius\"]}, D - {values[\"algorithm_distance\"]} - {values[\"run_id_distance\"]}'\n",
    "                    # label_true = f'Ground True R - {values[\"algorithm_radius\"]} - {values[\"run_id_radius\"]}, D - {values[\"algorithm_distance\"]} - {values[\"run_id_distance\"]}'\n",
    "                    plt.plot(x, values['expected_2R2D'], label=label_expected, color=color, linestyle='-',marker='.',markersize=2)\n",
    "                plt.plot(x, values['true_2R2D'], label='ground truth', color='k',linestyle='-',marker='.',markersize=2)\n",
    "                plt.ylabel('2R/D')\n",
    "                plt.xlabel('layer thickness (nm)')\n",
    "                plt.xlim(x.min(),x.max())\n",
    "                plt.ylim(0.0,2.0)\n",
    "                plt.legend()\n",
    "                plt.title(f'2R/D for {measurement}')\n",
    "                if save:\n",
    "                    plt.savefig(f'{morphology}_{measurement}.png')\n",
    "                plt.show()\n",
    "    \n",
    "    def plot_experiment_prediction_2R_to_D_sidebyside(self, runs=None, single_plots=True, single_experiments=False, save=False, group_by='loss'):\n",
    "        \"\"\"\n",
    "        Plots the ratio of twice the radius (2R) to the distance (D) for experimental data, \n",
    "        comparing predicted and ground truth values.\n",
    "\n",
    "        Parameters:\n",
    "        - runs (list): List of runs to plot. If None, uses all runs.\n",
    "        - single_plots (bool): If True, each plot is displayed separately. If False, combined plots are shown.\n",
    "        - single_experiments (bool): If True, plots each experiment separately within the same run.\n",
    "        - save (bool): If True, saves the plots as images.\n",
    "        \"\"\"\n",
    "        runs = self.runs if not runs else [self.runs[i] for i in range(len(self.runs)) if self.runs[i].id in runs]\n",
    "        # Gather prediction values\n",
    "        runs_prediction_values = {}\n",
    "        for run in runs:\n",
    "            for morphology in run.morphology:\n",
    "                prediction_values = run.get_experiment_prediction_values(morphology)\n",
    "                if morphology not in runs_prediction_values:\n",
    "                    runs_prediction_values[morphology] = {}\n",
    "                for measurement in prediction_values:\n",
    "                    if run.id not in runs_prediction_values[morphology]:\n",
    "                        runs_prediction_values[morphology][run.id] = {}\n",
    "                    runs_prediction_values[morphology][run.id][measurement] = {\n",
    "                        'compare': run.param_to_compare,\n",
    "                        'algorithm': run.algorithm,\n",
    "                        'max_weight': prediction_values[measurement]['max'].to_numpy(), \n",
    "                        'expected': prediction_values[measurement]['avg'].to_numpy(),\n",
    "                        'ground_truth': prediction_values[measurement]['gt'].to_numpy(),\n",
    "                        'thickness': prediction_values[measurement]['thickness'].to_numpy()\n",
    "                    }\n",
    "\n",
    "        # Ensure required morphologies are available\n",
    "        if not all(x in runs_prediction_values.keys() for x in ['distance', 'radius']):\n",
    "            print(\"Required morphologies 'radius' and 'distance' are not available in the runs.\")\n",
    "            return\n",
    "\n",
    "        # Calculate 2R/D ratios\n",
    "        plot_values = {}\n",
    "        for run_idr, radius_values in runs_prediction_values['radius'].items():\n",
    "            for measurement in radius_values:\n",
    "                if measurement not in plot_values:\n",
    "                    plot_values[measurement] = []\n",
    "                for run_idd, distance_values in runs_prediction_values['distance'].items():\n",
    "                    \n",
    "                    max_num_data = min(len(distance_values[measurement]['thickness']), len(radius_values[measurement]['thickness']))\n",
    "                    if radius_values[measurement]['compare']==distance_values[measurement]['compare']:\n",
    "                        values = {\n",
    "                            'thickness': distance_values[measurement]['thickness'][:max_num_data],\n",
    "                            'expected_2R2D': (radius_values[measurement]['expected'][:max_num_data] * 2) / distance_values[measurement]['expected'][:max_num_data],\n",
    "                            'true_2R2D': (radius_values[measurement]['ground_truth'][:max_num_data] * 2) / distance_values[measurement]['ground_truth'][:max_num_data],\n",
    "                            'run_id_radius': run_idr,\n",
    "                            'run_id_distance': run_idd,\n",
    "                            'algorithm_radius': radius_values[measurement]['algorithm'],\n",
    "                            'algorithm_distance': distance_values[measurement]['algorithm'],\n",
    "                            'loss_radius': radius_values[measurement]['compare'],\n",
    "                            'loss_distance': distance_values[measurement]['compare']\n",
    "                        }\n",
    "                        plot_values[measurement].append(values)\n",
    "        # Plotting\n",
    "        for measurement, values_list in plot_values.items():\n",
    "            if single_plots:\n",
    "                for i in range(0, len(values_list), 2):\n",
    "                    # create side-by-side subplots\n",
    "                    fig, axes = plt.subplots(1, 2, figsize=(my_width, my_width/golden))#(16, 5))\n",
    "                    for j, ax in enumerate(axes):\n",
    "                        if i + j < len(values_list):\n",
    "                            values = values_list[i + j]\n",
    "                            x = values['thickness']\n",
    "                            ax.plot(x, values['expected_2R2D'], label='average', color='g', linestyle='-', marker='.', markersize=2)\n",
    "                            ax.plot(x, values['true_2R2D'], label='ground truth', color='k', linestyle='-', marker='.', markersize=2)\n",
    "                            ax.set_ylabel('2R/D')\n",
    "                            ax.set_xlabel('layer thickness (nm)')\n",
    "                            ax.set_xlim(x.min(), x.max())\n",
    "                            ax.set_ylim(0.0, 2.0)\n",
    "                            ax.legend()\n",
    "                            ax.set_title(\n",
    "                                f'2R/D for {measurement}\\nRadius: {values[\"algorithm_radius\"]} (Run: {values[\"run_id_radius\"]}), '\n",
    "                                f'Distance: {values[\"algorithm_distance\"]} (Run: {values[\"run_id_distance\"]})'\n",
    "                            )\n",
    "                    #plt.tight_layout()\n",
    "                    plt.show()\n",
    "                    if save:\n",
    "                        fig.savefig(f'{measurement}_pair_{i//2}.png')\n",
    "        if not single_plots:\n",
    "            # Define colors and plot layout\n",
    "            colors = [matplotlib.colors.to_hex(plt.cm.tab10(i)) for i in range(10)]\n",
    "            num_measurements = len(plot_values)\n",
    "            num_cols = 2  # We want two measurements side by side\n",
    "            num_rows = (num_measurements + 1) // num_cols  # Compute the number of rows needed\n",
    "\n",
    "            fig, axes = plt.subplots(num_rows, num_cols, figsize=(my_width, 2*my_width/golden))#(18, 7 * num_rows))\n",
    "            axes = axes.flatten()  # Flatten the 2D array of axes for easy indexing\n",
    "\n",
    "            # Plot each measurement in its own subplot\n",
    "            for idx, (measurement, values_list) in enumerate(plot_values.items()):\n",
    "                ax = axes[idx]\n",
    "                max_data_index = np.argmin([len(values_list[i]['thickness']) for i in range(len(values_list))])\n",
    "                max_data_num = min([len(values_list[i]['thickness']) for i in range(len(values_list))])\n",
    "                for idv, values in enumerate(values_list):\n",
    "                    x = values_list[max_data_index]['thickness']\n",
    "\n",
    "                    ax.plot(\n",
    "                        x, values['expected_2R2D'][:max_data_num],\n",
    "                        label=f'{values[\"loss_radius\"]}',\n",
    "                        # label=f'Expected R: {values[\"algorithm_radius\"]} (Run: {values[\"run_id_radius\"]}), '\n",
    "                        #       f'D: {values[\"algorithm_distance\"]} (Run: {values[\"run_id_distance\"]})',\n",
    "                        color=colors[idv % len(colors)], linestyle='-', linewidth=2)\n",
    "                    \n",
    "                    if idv==len(values_list)-1:\n",
    "                        ax.plot(\n",
    "                            x, values['true_2R2D'][:max_data_num],\n",
    "                            label='ground truth', color='black', linestyle='-', linewidth=2#marker='.', markersize=2\n",
    "                        )\n",
    "\n",
    "                ax.set_ylabel('2R/D')\n",
    "                ax.set_xlabel('layer thickness (nm)')\n",
    "                ax.set_xlim(x.min(), x.max())\n",
    "                ax.set_ylim(0.0, 2.0)\n",
    "                ax.legend(loc='upper left',# bbox_to_anchor=(0.5, -0.1),\n",
    "                          fancybox=True, shadow=False, ncol=1)\n",
    "                ax.set_title(f'2R/D - {measurement}')\n",
    "\n",
    "            # Hide any unused subplots\n",
    "            for idx in range(num_measurements, len(axes)):\n",
    "                axes[idx].axis('off')\n",
    "\n",
    "            #plt.tight_layout()\n",
    "            fig.subplots_adjust(wspace=0.3, hspace=0.3)\n",
    "\n",
    "            if save:\n",
    "                plt.savefig('measurements_combined.png')\n",
    "            plt.show()\n",
    "\n",
    "    def plot_histogramm_experiment(self):\n",
    "        pass\n",
    "        # plot test simulation data prediction histogram of densenets\n",
    "       # plot_histogramm(folders=['results_final/data/densenet121', 'results_final/data/densenet169', 'results_final/data/densenet201'],\n",
    "                        # models=['densenet121', 'densenet169', 'densenet201'],\n",
    "                        # filenames=['densenet121_prediction_simulation_test_0.33_256_25_sf37_final.csv', 'densenet169_prediction_simulation_test_0.33_256_25_sf37_mae.csv', 'densenet201_prediction_simulation_test_0.33_256_25_sf37_final.csv'])\n",
    "\n",
    "    def plot_histogramm_simulation(self, runs=None, buckets=None, labels=None, save=False, desc=None):\n",
    "        colors=['blue', 'red', 'green', 'orange', 'brown']\n",
    "        param = self.runs[0].morphology[0]\n",
    "        # get the data sets for prediction vs ground truth\n",
    "        runs_prediction_results = []\n",
    "        runs_prediction_results_avg = []\n",
    "        for i, run in enumerate(self.runs):\n",
    "            simulation_prediction_results = run.get_simulation_prediction_values_all_rounds()\n",
    "            runs_prediction_results.append([])\n",
    "            \n",
    "            runs_prediction_results_avg.append([])\n",
    "\n",
    "            for round_df in simulation_prediction_results:\n",
    "                absolut_error = np.abs(round_df['max'] - round_df['gt'])\n",
    "                avg_error = np.abs(round_df['avg'] - round_df['gt'])\n",
    "                runs_prediction_results[i].extend(absolut_error)\n",
    "                runs_prediction_results_avg[i].extend(avg_error)\n",
    "\n",
    "            \n",
    "        for i,res in enumerate(runs_prediction_results):\n",
    "            res_avg = runs_prediction_results_avg[i]\n",
    "            print(f\"\\n{labels[i]}\\nerror below 1.00 nm: {len(np.array(res)[(np.array(res)<=1.00)])/len(np.array(res))}\")\n",
    "            # print(f\"error below 0.5 nm: {len(np.array(res)[(np.array(res)<=0.5)])/len(np.array(res))}\")\n",
    "            # print(f\"error below 0.25 nm: {len(np.array(res)[(np.array(res)<=0.25)])/len(np.array(res))}\")\n",
    "            print(f\"\\nerror above 0.5 nm: {len(np.array(res)[(np.array(res)>0.5)])/len(np.array(res))}\")\n",
    "            print(f\"error above 1.0 nm: {len(np.array(res)[(np.array(res)>1.0)])/len(np.array(res))}\")\n",
    "#             print(f\"error above 0.75 nm: {len(np.array(res)[(np.array(res)>0.75)])/len(np.array(res))}\")\n",
    "\n",
    "#             print(f\"\\n(AVG) error above 0.5 nm: {len(np.array(res_avg)[(np.array(res_avg)>0.5)])/len(np.array(res_avg))}\")\n",
    "#             print(f\"\\n(AVG) error above 1.0 nm: {len(np.array(res_avg)[(np.array(res_avg)>1.0)])/len(np.array(res_avg))}\")\n",
    "        weights = []\n",
    "        for i in range(len(runs_prediction_results)):\n",
    "            weights.append([100 / len(runs_prediction_results[i])] * len(runs_prediction_results[i]))\n",
    "        \n",
    "        fig, ax1 = plt.subplots(dpi=600)\n",
    "        plt.hist(runs_prediction_results, weights=weights, \n",
    "                 align='mid',\n",
    "                 color=[colors[i] for i in range(len(self.runs))],\n",
    "                 range=(0.00, 2.5) #\n",
    "                 #bins=15 if param=='radius' else 30\n",
    "                 )\n",
    "        \n",
    "        #ax1.set_xlim(0, 1.5)\n",
    "        plt.xlim((0, 2.5))# if param=='radius' else (0,2))\n",
    "\n",
    "        xticks=np.arange(0.00, 2.5, 0.25) #if param=='radius' else np.arange(0.00, 2.5, 0.15)\n",
    "        plt.xticks(xticks)\n",
    "        plt.ylabel(r'Frequency [\\%]')\n",
    "        plt.xlabel(fr'Absolute error {\"$D$\" if param==\"distance\" else \"$R$\"} [nm]')\n",
    "        plt.legend(labels=labels, loc='upper right')\n",
    "        plt.tight_layout()\n",
    "        if save:\n",
    "            plt.savefig(f'figures/{param}_error_histogram_{desc}.png',bbox_inches='tight', dpi=600)\n",
    "\n",
    "    \n",
    "    def plot_real_prediction_2R_to_D(self, runs=None, single_plots=True):\n",
    "        pass\n",
    "    \n",
    "    def plot_compare_results_simulation_experiment(self, runs=None, single_plots=True):\n",
    "        # compare experiment predictions and gt with simulation predictions and ground truth\n",
    "        pass\n",
    "    \n",
    "    def fill_between(self,x, morphology):\n",
    "        if morphology == 'radius':\n",
    "            min_scope = 1.5#2.5#\n",
    "            max_scope = 7.5#7.1#\n",
    "            plt.ylim((0,14))\n",
    "            plt.xlim((1,6))\n",
    "\n",
    "        elif morphology == 'distance':\n",
    "            min_scope = 6.0#2.5#\n",
    "            max_scope = 15.0#7.1#\n",
    "            plt.ylim((5.0,25))\n",
    "            plt.xlim((1,6))\n",
    "\n",
    "        else: \n",
    "            min_scope = 0#2.5#\n",
    "            max_scope = 0#7.1#\n",
    "        plt.fill_between(x,min_scope,max_scope,facecolor='gray', alpha=0.3, label='training scope')"
   ]
  },
  {
   "cell_type": "markdown",
   "id": "9fa5231b-ef99-43f8-8ef8-673ca1c36baa",
   "metadata": {},
   "source": [
    "#### Unused Functions"
   ]
  },
  {
   "cell_type": "code",
   "execution_count": null,
   "id": "a9a10bf0-db83-4f92-abb9-cc1e873afef8",
   "metadata": {
    "jupyter": {
     "source_hidden": true
    },
    "tags": []
   },
   "outputs": [],
   "source": [
    "    # single_plots :: if Fals, runs with same morphology will be ploted on same figure,\n",
    "    # single_experiments :: if False experiments with same morphology will be ploted on same figure,\n",
    "    def plot_simulation_predictions(self, runs=None, single_plots=True, save=False, compare='loss'):\n",
    "        # plot the prediction curves for the morphology with ground truth if given\n",
    "        #if runs is None that plot all runs\n",
    "        runs = self.runs if not runs else [self.runs[i] for i in range(len(self.runs)) if self.runs[i].id in runs]\n",
    "        # gather all data for plots\n",
    "        runs_prediction_values = {}\n",
    "        for run in runs:\n",
    "            for morphology in run.morphology:\n",
    "                prediction_values = run.get_simulation_prediction_values(morphology)\n",
    "                if morphology not in runs_prediction_values:\n",
    "                    runs_prediction_values[morphology] = {}\n",
    "                runs_prediction_values[morphology][run.id] = {\n",
    "                    'config': run.param_to_compare,\n",
    "                    'algorithm': run.algorithm,\n",
    "                    'max_weight': prediction_values['max'].to_numpy(), \n",
    "                    'expected': prediction_values['avg'].to_numpy(),\n",
    "                    'ground_truth': prediction_values['gt'].to_numpy()\n",
    "                    }\n",
    "                sorted_idx = np.argsort(runs_prediction_values[morphology][run.id]['ground_truth'])\n",
    "                for key in ['ground_truth', 'max_weight', 'expected']:\n",
    "                    runs_prediction_values[morphology][run.id][key] = runs_prediction_values[morphology][run.id][key][sorted_idx]\n",
    "\n",
    "        for morphology, run_data in runs_prediction_values.items(): \n",
    "            if morphology == 'radius':\n",
    "                min_scope = 1.5#2.5#\n",
    "                max_scope = 7.5#7.1#\n",
    "            elif morphology == 'distance':\n",
    "                min_scope = 6.0#2.5#\n",
    "                max_scope = 15.0#7.1#\n",
    "            if single_plots:\n",
    "                for run_id, values in run_data.items():\n",
    "                    plt.figure(figsize = (my_width, my_width/golden))\n",
    "                    plt.gca().xaxis.set_major_locator(plt.MaxNLocator(integer=True))\n",
    "                    x = np.arange(len(values['max_weight']))\n",
    "                    plt.fill_between(x,min_scope,max_scope,facecolor='gray', alpha=0.3, label='Training scope')\n",
    "                    plt.plot(x, values['expected'], label='average', marker='.',markersize=2,linestyle='-', linewidth=0.5,color='green')\n",
    "                    plt.plot(x, values['max_weight'], label='max_weight', marker='.',markersize=2,linestyle='-', linewidth=0.5,color='red', alpha=0.3)\n",
    "                    plt.plot(x, values['ground_truth'], label='ground_truth', marker='.',markersize=2,linestyle='-', linewidth=0.5, color='k')\n",
    "                    plt.legend(loc='upper left')\n",
    "                    plt.xlabel('simulation Nr.')\n",
    "                    plt.ylabel(morphology + ' (nm)')\n",
    "                    title = f'Comparison of prediction for {values[\"algorithm\"]}, run: {run_id}'\n",
    "                    if compare != None: \n",
    "                        title += f', {compare}: {values[\"config\"][compare]}'\n",
    "                    plt.title(title) \n",
    "                    plt.ylim((min_scope, 14 if morphology=='radius' else 25))\n",
    "                    plt.xlim((0, len(values['expected'])))\n",
    "                    if save:\n",
    "                        plt.savefig(f'plot_{morphology}_{run_id}.png')\n",
    "                    plt.show() \n",
    "            else:\n",
    "                plt.figure(figsize = (my_width, my_width/golden))\n",
    "                plt.gca().xaxis.set_major_locator(plt.MaxNLocator(integer=True))\n",
    "                colors = [matplotlib.colors.to_hex(plt.cm.tab10(i)) for i in range(10)]\n",
    "                #colors = plt.cm.tab10(np.linspace(0, 1, len(run_data)))\n",
    "                xs = []\n",
    "                for idx, (run_id, values) in enumerate(run_data.items()):\n",
    "                    x = np.arange(len(values['max_weight']))\n",
    "                    if len(x)>len(xs): xs = x\n",
    "                    color = colors[idx]\n",
    "                    plt.plot(x, values['expected'], label=f'expected ({values[\"algorithm\"]}_run_{run_id})', marker='.',markersize=0.5, color=color)#, linestyle='--'\n",
    "                    plt.plot(x, values['max_weight'], label=f'max_weight ({values[\"algorithm\"]}_run_{run_id})', marker='.', color=color,markersize=0.5, alpha=0.3)#, linestyle=':'\n",
    "                    plt.plot(x, values['ground_truth'], label=f'ground_truth ({values[\"algorithm\"]}_run_{run_id})', marker='.',markersize=0.5, color=darken_color(color))#, linestyle='-'\n",
    "                plt.xlabel('Simulation Nr.')\n",
    "                plt.ylabel(morphology + ' (nm)')\n",
    "                plt.title(f'Comparison of predictions for morphology: {morphology}')\n",
    "                plt.legend(loc='upper left')\n",
    "                self.fill_between(xs, morphology)\n",
    "                if save:\n",
    "                    plt.savefig(f'plot_{morphology}_combined.png')\n",
    "                plt.show()\n",
    "\n",
    "\n",
    "def plot_experiment_predictions(self, runs=None, single_runs=False, single_measurement=True, save=False, desc=None):\n",
    "        # plot the prediction curves for the morphology with ground truth if given\n",
    "        #if runs is None that plot all runs\n",
    "        runs = self.runs if not runs else [self.runs[i] for i in range(len(self.runs)) if self.runs[i].id in runs]\n",
    "        \n",
    "        # gather all data for plots\n",
    "        runs_prediction_values = {}\n",
    "        # iterate runs\n",
    "        for run in runs:\n",
    "            # iterate run morphology\n",
    "            for morphology in run.morphology:\n",
    "                if morphology not in runs_prediction_values:\n",
    "                    # make new field for the morphology \n",
    "                    runs_prediction_values[morphology] = {}\n",
    "                # get dictionary of data frames for run's morphology measurement prediction values {'measurement_id':<pd.DataFrame>,...}\n",
    "                prediction_values = run.get_experiment_prediction_values(morphology)\n",
    "                # iterate measurements \n",
    "                for measurement in prediction_values:\n",
    "                    if run.id not in runs_prediction_values[morphology]:\n",
    "                        # make new field for the run \n",
    "                         runs_prediction_values[morphology][run.id] = {}\n",
    "                    # initialize main values dictionary for the plots\n",
    "                    runs_prediction_values[morphology][run.id][measurement] = {\n",
    "                        'compare': run.param_to_compare,\n",
    "                        'algorithm': run.algorithm,\n",
    "                        'max_weight': prediction_values[measurement]['max'].to_numpy(), \n",
    "                        'expected': prediction_values[measurement]['avg'].to_numpy(),\n",
    "                        'ground_truth': prediction_values[measurement]['gt'].to_numpy(),\n",
    "                        'thickness': prediction_values[measurement]['thickness'].to_numpy()\n",
    "                        }\n",
    "        # iterate morphology parameter (key) and the associate runs (values)\n",
    "        for morphology, runs in runs_prediction_values.items():\n",
    "            colors = [matplotlib.colors.to_hex(plt.cm.tab10(i)) for i in range(10)] \n",
    "\n",
    "            # plot each run in single figure\n",
    "            if single_runs:\n",
    "                # iterate runs (key) and the associated measurements (values)\n",
    "                for run_id, measurements in runs.items():\n",
    "                    \n",
    "                    if single_measurement:\n",
    "                        # plot each measurement in single figure\n",
    "                        for measurement, values in measurements.items():\n",
    "                            plt.figure(figsize = (my_width, my_width/golden))\n",
    "                            x = values['thickness']\n",
    "                            plt.plot(x, values['expected'], label='average', color='g',linestyle='-',marker='.',markersize=2)\n",
    "                            plt.plot(x, values['max_weight'], label='max weight', color='r', alpha=0.3,linestyle='-',marker='.',markersize=2)\n",
    "                            plt.plot(x, values['ground_truth'], label='ground truth', color='k',linestyle='-',marker='.',markersize=2)\n",
    "                            plt.legend(loc='upper left')\n",
    "                            plt.xlabel('layer thickness (nm)')\n",
    "                            plt.ylabel(morphology + ' (nm)')\n",
    "                            title = f'{values[\"algorithm\"]} - {morphology} - {run_id} - {measurement}'\n",
    "                            if values['compare'] != None:\n",
    "                                title += f' - {values[\"compare\"] }'\n",
    "                            plt.title(title)\n",
    "                            self.fill_between(x, morphology)                            \n",
    "                            if save:\n",
    "                                plt.savefig(f'{morphology}_{run_id}_{measurement}.png')\n",
    "                            plt.show()\n",
    "                    else:\n",
    "                        # plot all measurements in single run figure\n",
    "                        plt.figure(figsize = (my_width, my_width/golden))\n",
    "                        xs = []\n",
    "                        for idx, (measurement, values) in enumerate(measurements.items()):\n",
    "                            x = values['thickness']\n",
    "                            if len(x)>len(xs): xs = x\n",
    "                            plt.plot(x, values['ground_truth'], label=f'{measurement} Ground Truth', marker='.', color=darken_color(colors[idx]))\n",
    "                            plt.plot(x, values['expected'], label=f'{measurement} Expected', marker='.',markersize=0.5, color=colors[idx])\n",
    "                            plt.plot(x, values['max_weight'], label=f'{measurement} Max Weight', marker='.',markersize=0.5, alpha=0.3, color=colors[idx])\n",
    "                        plt.legend(loc='upper left')\n",
    "                        plt.xlabel('layer thickness (nm)')\n",
    "                        plt.ylabel(morphology + ' (nm)')\n",
    "                        \n",
    "                        title = f'{morphology} - {run_id}'\n",
    "                        if values['compare'] != None:\n",
    "                            title += f' - {values[\"compare\"] }'\n",
    "                        plt.title(title)\n",
    "                        \n",
    "                        self.fill_between(xs, morphology)\n",
    "                        if save:\n",
    "                            plt.savefig(f'{morphology}_{run_id}.png')\n",
    "                        plt.show()\n",
    "            # else   \n",
    "            # plot each measurement in single figure with all runs \n",
    "            if not single_runs and single_measurement:\n",
    "\n",
    "                for measurement in next(iter(runs.values())).keys():\n",
    "                    plt.figure(figsize = (my_width, my_width/golden))\n",
    "                    #markercycle = cycler(marker=['o', '+', 'x', '*', '.', 'X'])\n",
    "                    markercycle = ['X', 'D', '^', 'P', '8', '*']\n",
    "\n",
    "                    #colorcycle = cycler(color=['blue', 'orange', 'green', 'magenta'])\n",
    "                    # Or use the default color cycle:\n",
    "                    # colorcycle = cycler(color=plt.rcParams['axes.prop_cycle'].by_key()['color'])\n",
    "                    #plt.gca().set_prop_cycle(colorcycle * markercycle) # \n",
    "                    x = next(iter(runs.values()))[measurement]['thickness']\n",
    "                    for idx, (run_id, measurements) in enumerate(runs.items()):\n",
    "                        values = measurements[measurement]\n",
    "                        if idx==0:\n",
    "                            plt.plot(x, values['ground_truth'], label=f'ground truth', color='k', linewidth=3.5)#,markersize=3, marker='.')\n",
    "                        #plt.plot(x, values['expected'], label=f'{values[\"algorithm\"]} - {run_id} {values[\"compare\"]} average', marker='.',markersize=2, color=colors[idx])\n",
    "                        #plt.plot(x, values['max_weight'], label=f'{values[\"algorithm\"]} - {run_id} {values[\"compare\"]} max weight', marker='.',linestyle='--', alpha=0.3,markersize=2, color=colors[idx])\n",
    "                        plt.plot(x, values['expected'], label=f'{values[\"compare\"]} average',markersize=2, color=colors[idx], linewidth=2.0)#,marker=markercycle[idx])\n",
    "                        plt.plot(x, values['max_weight'], label=f'{values[\"compare\"]} max weight',linestyle=':', alpha=0.3,markersize=1.0, color=colors[idx], linewidth=2)#,marker=markercycle[idx])\n",
    "\n",
    "                    #plt.legend(loc='upper center', bbox_to_anchor=(0.5, -0.1),\n",
    "                   #       fancybox=True, shadow=True, ncol=round(np.sqrt(len(runs)))+1)\n",
    "                    plt.xlabel('layer thickness (nm)')\n",
    "                    plt.ylabel(morphology + ' (nm)')\n",
    "                    plt.title(fr'{morphology.title()} - {measurement}')\n",
    "                    #plt.title(fr'{morphology} - {measurement} - $\\sigma$/R=30% ')  - $\\sigma$/R=30\\%') # $\\sigma$/R=10\\%-35\\%') #\n",
    "\n",
    "                    self.fill_between(x, morphology)\n",
    "                    plt.legend(loc='upper left')\n",
    "\n",
    "                    if save:\n",
    "                        plt.savefig(f'figures/{morphology}_{measurement}_{desc}.png')\n",
    "                    plt.show()"
   ]
  },
  {
   "cell_type": "code",
   "execution_count": 47,
   "id": "6364ecc7-fe05-479e-92a3-3b82c16f421b",
   "metadata": {},
   "outputs": [],
   "source": [
    "runs_radius = {\n",
    "\t'morphology': [['radius']],\n",
    "\t'algorithm': ['mlp2'],\n",
    "    'id_runs': [['124','125','123']]}\n",
    "runs_radius_df = pd.DataFrame(runs_radius)\n",
    "evaluation_radius = Evaluation_Results(runs_radius_df, 'beta')"
   ]
  },
  {
   "cell_type": "code",
   "execution_count": 48,
   "id": "f51a774f-f038-4e41-8248-3fbeb750a2e6",
   "metadata": {},
   "outputs": [
    {
     "name": "stdout",
     "output_type": "stream",
     "text": [
      "sputter_100K\n",
      "sputter_300K\n",
      "sputter_400K\n",
      "sputter_500K\n"
     ]
    },
    {
     "data": {
      "image/png": "[encoded data removed]",
      "text/plain": [
       "<Figure size 880x520 with 1 Axes>"
      ]
     },
     "metadata": {},
     "output_type": "display_data"
    }
   ],
   "source": [
    "evaluation_radius.plot_all_experiment_predictions_with_std(params={'run':['R124', 'R125', 'R123']})"
   ]
  },
  {
   "cell_type": "code",
   "execution_count": null,
   "id": "00555d66-f2d3-4184-8669-5d1708aca471",
   "metadata": {},
   "outputs": [],
   "source": [
    "evaluation_radius.plot_experiment_predictions_with_std(params={'run':['R124', 'R125', 'R123']})"
   ]
  },
  {
   "cell_type": "markdown",
   "id": "3f85d40c-8773-4ea0-aa4e-cfc4e53a9b62",
   "metadata": {},
   "source": [
    "## Distance\n",
    "### Comparison of loss functions"
   ]
  },
  {
   "cell_type": "code",
   "execution_count": null,
   "id": "58a5a0fc-b360-4961-9db8-c1e10f474d91",
   "metadata": {
    "tags": []
   },
   "outputs": [],
   "source": [
    "runs_map_distance_sim = {\n",
    "\t'morphology': [['distance']],\n",
    "\t'algorithm': ['mlp2'],\n",
    "    'id_runs': [['66','65','67']]}\n",
    "runs_map_distance_sim_df = pd.DataFrame(runs_map_distance_sim)\n",
    "evaluation_distance_sim = Evaluation_Results(runs_map_distance_sim_df, 'beta')\n",
    "\n",
    "runs_map_distance_reduced = {\n",
    "\t'morphology': [['distance']],\n",
    "\t'algorithm': ['mlp2'],\n",
    "    'id_runs': [['63','64','60']]}\n",
    "runs_map_distance_reduced_df = pd.DataFrame(runs_map_distance_reduced)\n",
    "evaluation_distance_reduced = Evaluation_Results(runs_map_distance_reduced_df, 'beta')\n",
    "\n",
    "runs_map_distance_exp = {\n",
    "\t'morphology': [['distance']],\n",
    "\t'algorithm': ['mlp2'],\n",
    "    'id_runs': [['62','59','58']]}\n",
    "runs_map_distance_exp_df = pd.DataFrame(runs_map_distance_exp)\n",
    "evaluation_distance_exp = Evaluation_Results(runs_map_distance_exp_df, 'beta')"
   ]
  },
  {
   "cell_type": "code",
   "execution_count": null,
   "id": "db20cc4f-990c-4ea0-80f6-46487b78205e",
   "metadata": {},
   "outputs": [],
   "source": [
    "evaluation_distance_reduced.plot_histogramm_simulation(labels=['${L}_{{MSE}}$ (D3)','${L}_{{CCE}}$ (D5)','${L}_{{KLD}}$ (D7)'], save=True, desc='Loss_Function_Comparison-reduced_validation')"
   ]
  },
  {
   "cell_type": "code",
   "execution_count": null,
   "id": "7108a9ea-0511-43c9-82d1-f33427c0991e",
   "metadata": {
    "jupyter": {
     "source_hidden": true
    }
   },
   "outputs": [],
   "source": [
    "evaluation_distance_exp.plot_histogramm_simulation(labels=['${L}_{{MSE}}$ (D2)','${L}_{{CCE}}$ (D4)','${L}_{{KLD}}$ (D6)'], save=False, desc='Loss_Function_Comparison-sim_validation')"
   ]
  },
  {
   "cell_type": "code",
   "execution_count": null,
   "id": "5856e09d-8eaa-4456-a31b-a75bdd3f1900",
   "metadata": {},
   "outputs": [],
   "source": [
    "evaluation_distance_sim.plot_histogramm_simulation(labels=['${L}_{{MSE}}$ (D2)','${L}_{{CCE}}$ (D4)','${L}_{{KLD}}$ (D6)'], save=True, desc='Loss_Function_Comparison-sim_validation')"
   ]
  },
  {
   "cell_type": "code",
   "execution_count": null,
   "id": "fa075f68-9440-4bb4-bfa5-0a0fbe829161",
   "metadata": {
    "tags": []
   },
   "outputs": [],
   "source": [
    "evaluation_distance_reduced.plot_experiment_predictions_with_std(desc='MSEvsCCEvsKLD-reduced_validation-narrow_sigma-one_hot',thresh=1.0, save=True, params={'loss':['${L}_{{MSE}}$ (D3)','${L}_{{CCE}}$ (D5)','${L}_{{KLD}}$ (D7)']}, title=None, colors=['blue','red','green'])"
   ]
  },
  {
   "cell_type": "code",
   "execution_count": null,
   "id": "6ac59928-13ba-4c4b-884c-0efaf8008162",
   "metadata": {},
   "outputs": [],
   "source": [
    "evaluation_distance_sim.plot_experiment_predictions_with_std(desc='MSEvsCCEvsKLD-sim_validation-narrow_sigma-one_hot',thresh=0.5, save=True, params={'loss':['${L}_{{MSE}}$ (D2)','${L}_{{CCE}}$ (D4)','${L}_{{KLD}}$ (D6)']}, title=None, colors=['blue','red','green'])"
   ]
  },
  {
   "cell_type": "code",
   "execution_count": null,
   "id": "227dd430-b5ad-4eaf-9808-9b75e3377b9a",
   "metadata": {},
   "outputs": [],
   "source": [
    "evaluation_distance_exp.plot_experiment_predictions_with_std(desc='MSEvsCCEvsKLD-sim_validation-narrow_sigma-one_hot',thresh=1.0, save=False, params={'loss':['$\\mathcal{{L}}_{{MSE}}$','$\\mathcal{{L}}_{{CCE}}$','$\\mathcal{{L}}_{{KLD}}$']}, title=None, colors=['blue','red','green'])"
   ]
  },
  {
   "cell_type": "markdown",
   "id": "cc63de76-fbe7-4251-9db2-bbb0f4c68284",
   "metadata": {},
   "source": [
    "## Radius\n",
    "### Comparison of loss functions"
   ]
  },
  {
   "cell_type": "code",
   "execution_count": null,
   "id": "2cac4041-02dd-4ef4-a323-9bcd7c191af6",
   "metadata": {
    "tags": []
   },
   "outputs": [],
   "source": [
    "runs_map_radius_sim = {\n",
    "\t'morphology': [['radius']],\n",
    "\t'algorithm': ['mlp2'],\n",
    "    'id_runs': [['128','127','126']]}\n",
    "runs_map_radius_sim_df = pd.DataFrame(runs_map_radius_sim)\n",
    "evaluation_radius_sim = Evaluation_Results(runs_map_radius_sim_df, 'beta')\n",
    "\n",
    "runs_map_radius_reduced = {\n",
    "\t'morphology': [['radius']],\n",
    "\t'algorithm': ['mlp2'],\n",
    "    'id_runs': [['124','125','123']]}\n",
    "runs_map_radius_reduced_df = pd.DataFrame(runs_map_radius_reduced)\n",
    "evaluation_radius_reduced = Evaluation_Results(runs_map_radius_reduced_df, 'beta')\n",
    "\n",
    "runs_map_radius_exp = {\n",
    "\t'morphology': [['radius']],\n",
    "\t'algorithm': ['mlp2'],\n",
    "    'id_runs': [['130','131','129']]}\n",
    "runs_map_radius_exp_df = pd.DataFrame(runs_map_radius_exp)\n",
    "evaluation_radius_exp = Evaluation_Results(runs_map_radius_exp_df, 'beta')"
   ]
  },
  {
   "cell_type": "code",
   "execution_count": null,
   "id": "092cd9a9-6080-4069-afcb-ffea62af6134",
   "metadata": {
    "jupyter": {
     "source_hidden": true
    },
    "tags": []
   },
   "outputs": [],
   "source": [
    "evaluation_radius_exp.plot_experiment_predictions_with_std(desc='MSEvsCCEvsKLD-exp_validation-narrow_sigma-one_hot',thresh=1.0, save=False, params={'loss':['$\\mathcal{{L}}_{{MSE}}$','$\\mathcal{{L}}_{{CCE}}$','$\\mathcal{{L}}_{{KLD}}$']}, title=None, colors=['blue','red','green'])"
   ]
  },
  {
   "cell_type": "code",
   "execution_count": null,
   "id": "9bc4abd9-e0e1-4678-bf28-edf98c793f5e",
   "metadata": {
    "tags": []
   },
   "outputs": [],
   "source": [
    "evaluation_radius_reduced.plot_experiment_predictions_with_std(desc='MSEvsCCEvsKLD-reduced_validation-narrow_sigma-one_hot',thresh=1.0, save=True, params={'loss':['${L}_{{MSE}}$ (R3)','${L}_{{CCE}}$ (R5)','${L}_{{KLD}}$ (R7)']}, title=None, colors=['blue','red','green'])"
   ]
  },
  {
   "cell_type": "code",
   "execution_count": null,
   "id": "2080b840-8c91-4f4c-9759-0df70df648de",
   "metadata": {
    "tags": []
   },
   "outputs": [],
   "source": [
    "evaluation_radius_sim.plot_experiment_predictions_with_std(desc='MSEvsCCEvsKLD-sim_validation-narrow_sigma-one_hot',thresh=0.5, save=True, params={'loss':['${L}_{{MSE}}$ (R2)','${L}_{{CCE}}$ (R4)','${L}_{{KLD}}$ (R6)']}, title=None, colors=['blue','red','green'])"
   ]
  },
  {
   "cell_type": "code",
   "execution_count": null,
   "id": "6d31be93-389b-44c1-aa07-7a60e21e7754",
   "metadata": {
    "scrolled": true,
    "tags": []
   },
   "outputs": [],
   "source": [
    "evaluation_radius_sim.plot_histogramm_simulation(labels=['${L}_{{MSE}}$ (R2)','${L}_{{CCE}}$ (R4)','${L}_{{KLD}}$ (R6)'], save=True, desc='Loss_Function_Comparison-sim_validation')"
   ]
  },
  {
   "cell_type": "code",
   "execution_count": null,
   "id": "daba0fed-7d19-4313-ba8b-25af2df426ed",
   "metadata": {
    "scrolled": true,
    "tags": []
   },
   "outputs": [],
   "source": [
    "evaluation_radius_reduced.plot_histogramm_simulation(labels=['${L}_{{MSE}}$ (R3)','${L}_{{CCE}}$ (R5)','${L}_{{KLD}}$ (R7)'], save=True, desc='Loss_Function_Comparison-exp-reduced_validation')"
   ]
  },
  {
   "cell_type": "code",
   "execution_count": null,
   "id": "35665768-dc7b-4b0b-b5af-af3039273ba3",
   "metadata": {
    "tags": []
   },
   "outputs": [],
   "source": [
    "evaluation_radius_exp.plot_histogramm_simulation(labels=['$\\mathcal{{L}}_{{MSE}}$','$\\mathcal{{L}}_{{CCE}}$','$\\mathcal{{L}}_{{KLD}}$'], save=False, desc='Loss_Function_Comparison-sim_validation')"
   ]
  },
  {
   "cell_type": "markdown",
   "id": "0b06339c-cf5f-4308-9ead-170136e0c027",
   "metadata": {},
   "source": [
    "### Distance Regulerized"
   ]
  },
  {
   "cell_type": "code",
   "execution_count": null,
   "id": "f0398a87-4b0d-4bea-a9bd-3f212ae41414",
   "metadata": {
    "tags": []
   },
   "outputs": [],
   "source": [
    "runs_map_distance_mono = {\n",
    "\t'morphology': [['distance']],\n",
    "\t'algorithm': ['mlp2'],\n",
    "    'id_runs': [['64','69','77']]}#]]}\n",
    "    #'id_runs': [['64','68','69','77']]}#]]}\n",
    "runs_map_distance_mono_df = pd.DataFrame(runs_map_distance_mono)\n",
    "evaluation_distance_mono = Evaluation_Results(runs_map_distance_mono_df, 'beta')\n",
    "\n",
    "runs_map_distance_informed = {\n",
    "\t'morphology': [['distance']],\n",
    "\t'algorithm': ['mlp2'],\n",
    "    #'id_runs': [['64','76','72']]}#,'71','70']]}\n",
    "    'id_runs': [['64','72','71']]}\n",
    "runs_map_distance_informed_df = pd.DataFrame(runs_map_distance_informed)\n",
    "evaluation_distance_informed = Evaluation_Results(runs_map_distance_informed_df, 'beta')"
   ]
  },
  {
   "cell_type": "code",
   "execution_count": null,
   "id": "fbfdf1db-d3a4-40ce-bcc9-4e1e5a936dee",
   "metadata": {
    "scrolled": true
   },
   "outputs": [],
   "source": [
    "evaluation_distance_informed.plot_experiment_predictions_with_std(\n",
    "    desc='InfoReg-reduced_validation-narrow_sigma-one_hot',thresh=1.0, save=True, \n",
    "    #params={'loss':['w/o reg.','info reg. $\\gamma$=0.00001','info reg. $\\gamma$=0.001','info reg. $\\gamma$=1','info reg. $\\gamma$=10']}, \n",
    "    params={'loss':['w/o reg. (D5)','$R_{info}$, $\\gamma=10^{-3}$ (D10)','$R_{info}$, $\\gamma=1$ (D11)']},\n",
    "    title=None, colors=['blue','red','green'])#, 'orange','brown'])"
   ]
  },
  {
   "cell_type": "code",
   "execution_count": null,
   "id": "befc00b5-79fa-47db-8cf1-6ae17bdf6c02",
   "metadata": {},
   "outputs": [],
   "source": [
    "evaluation_distance_mono.plot_experiment_predictions_with_std(\n",
    "    desc='MonoReg-reduced_validation-narrow_sigma-one_hot',thresh=1.0, save=True, \n",
    "    #params={'loss':['w/o reg.','monotonic reg. $\\gamma$=0.00001','monotonic reg. $\\gamma$=0.001','monotonic reg. $\\gamma$=1']}, \n",
    "    params={'loss':['w/o reg. (D5)','$R_{mono}$, $\\gamma=10^{-3}$ (D8)','$R_{mono}$, $\\gamma$=1 (D9)']}, \n",
    "    title=None, colors=['blue','red','green'])#, 'orange','brown'])"
   ]
  },
  {
   "cell_type": "code",
   "execution_count": null,
   "id": "ba50906f-9507-48a4-a555-49e0f3197239",
   "metadata": {
    "tags": []
   },
   "outputs": [],
   "source": [
    "evaluation_distance_informed.plot_histogramm_simulation(\n",
    "    labels= ['w/o reg. (D5)','$R_{info}$, $\\gamma=10^{-3}$ (D10)','$R_{info}$, $\\gamma=1$ (D11)'], \n",
    "    #labels= ['w/o reg.','info reg. $\\gamma$=0.00001',\n",
    "    #         'info reg. $\\gamma$=0.001','info reg. $\\gamma$=1','info reg. $\\gamma$=10'], \n",
    "    save=True, desc='Info-Reg_sim_Comparison-exp-reduced_validation')"
   ]
  },
  {
   "cell_type": "code",
   "execution_count": null,
   "id": "4e57e92e-8710-42d0-ac36-1813479ab245",
   "metadata": {},
   "outputs": [],
   "source": [
    "evaluation_distance_mono.plot_histogramm_simulation(\n",
    "    #labels= ['w/o reg.','monotonic reg. $\\gamma$=0.00001','monotonic reg. $\\gamma$=0.001','monotonic reg. $\\gamma$=1'], \n",
    "    labels=['w/o reg. (D5)','$R_{mono}$, $\\gamma=10^{-3}$ (D8)','$R_{mono}$, $\\gamma$=1 (D9)'], \n",
    "    save=True, desc='Mono-Reg_sim_Comparison-exp-reduced_validation')"
   ]
  },
  {
   "cell_type": "markdown",
   "id": "f0dcf6d4-d1cb-4571-848a-0abf12e5afcd",
   "metadata": {},
   "source": [
    "### Radius Regulerized"
   ]
  },
  {
   "cell_type": "code",
   "execution_count": null,
   "id": "fd370b10-faea-456f-9fc2-de7cff06641e",
   "metadata": {
    "tags": []
   },
   "outputs": [],
   "source": [
    "runs_map_radius_mono = {\n",
    "\t'morphology': [['radius']],\n",
    "\t'algorithm': ['mlp2'],\n",
    "    #'id_runs': [['125','132','133']]}#,'136']]}\n",
    "    'id_runs': [['125','133','136']]}\n",
    "runs_map_radius_mono_df = pd.DataFrame(runs_map_radius_mono)\n",
    "evaluation_radius_mono = Evaluation_Results(runs_map_radius_mono_df, 'beta')\n",
    "\n",
    "runs_map_radius_mono_MSE = {\n",
    "\t'morphology': [['radius']],\n",
    "\t'algorithm': ['mlp2'],\n",
    "    'id_runs': [['124','134','135']]}\n",
    "runs_map_radius_mono_MSE_df = pd.DataFrame(runs_map_radius_mono_MSE)\n",
    "evaluation_radius_mono_MSE = Evaluation_Results(runs_map_radius_mono_MSE_df, 'beta')"
   ]
  },
  {
   "cell_type": "code",
   "execution_count": null,
   "id": "297067e8-4515-4f77-ad0e-e263056ff552",
   "metadata": {
    "tags": []
   },
   "outputs": [],
   "source": [
    "evaluation_radius_mono.plot_histogramm_simulation(\n",
    "    #labels=['w/o reg.','monotonic reg. $\\gamma$=0.00001','monotonic reg. $\\gamma$=0.001'],\n",
    "    labels=['w/o reg. (R5)','$R_{mono}$, $\\gamma=10^{-3}$ (R8)','$R_{mono}$, $\\gamma$=1 (R9)'],\n",
    "    \n",
    "    save=True, desc='Mono-Reg_sim_Comparison-exp-reduced_validation')"
   ]
  },
  {
   "cell_type": "code",
   "execution_count": null,
   "id": "f2a5df53-6ab6-4001-9849-6ad0ffcef6df",
   "metadata": {
    "tags": []
   },
   "outputs": [],
   "source": [
    "evaluation_radius_mono.plot_experiment_predictions_with_std(desc='MonoReg-reduced_validation-narrow_sigma-one_hot',thresh=0.5, save=True, params={'loss':['w/o reg. (R5)','$R_{mono}$, $\\gamma=10^{-3}$ (R8)','$R_{mono}$, $\\gamma$=1 (R9)']}, title=None, colors=['blue','red','green'])"
   ]
  },
  {
   "cell_type": "code",
   "execution_count": null,
   "id": "764c4a25-778e-41ac-8ab7-54f7819e20b2",
   "metadata": {
    "tags": []
   },
   "outputs": [],
   "source": [
    "evaluation_radius_mono.plot_experiment_predictions_with_std(desc='InfoReg-reduced_validation-narrow_sigma-one_hot',thresh=0.5, save=False, params={'loss':['w/o reg.','monotonic reg. $\\gamma$=0.00001','monotonic reg. $\\gamma$=0.001','monotonic reg. $\\gamma$=1']}, title=None, colors=['blue','red','green', 'orange'])"
   ]
  },
  {
   "cell_type": "markdown",
   "id": "04e120c6-e480-4c59-b5fe-a5e860c265fd",
   "metadata": {},
   "source": [
    "### Comparison for shuffled& constrained"
   ]
  },
  {
   "cell_type": "code",
   "execution_count": null,
   "id": "28953e42-25ca-4eec-bdb9-d47ee8d438bd",
   "metadata": {},
   "outputs": [],
   "source": [
    "runs_map_radius = {\n",
    "\t'morphology': [['radius']],\n",
    "\t'algorithm': ['mlp2'],\n",
    "    'id_runs': [['140','128']]}#'id_runs': [['140','139','128']]} # 137->140\n",
    "runs_map_radius_df = pd.DataFrame(runs_map_radius)\n",
    "evaluation_radius_const_shuffle = Evaluation_Results(runs_map_radius_df, 'beta')\n",
    "\n",
    "runs_map_distance = {\n",
    "\t'morphology': [['distance']],\n",
    "\t'algorithm': ['mlp2'],\n",
    "    'id_runs': [['80','66']]} #'id_runs': [['80','79','66']]} # 77->79\n",
    "runs_map_distance_df = pd.DataFrame(runs_map_distance)\n",
    "evaluation_distance_const_shuffle = Evaluation_Results(runs_map_distance_df, 'beta')"
   ]
  },
  {
   "cell_type": "code",
   "execution_count": null,
   "id": "0389bc5b-1116-4f13-9f8f-5d99db99c379",
   "metadata": {},
   "outputs": [],
   "source": [
    "evaluation_distance_const_shuffle.plot_histogramm_simulation(\n",
    "    labels=['not constrained (D1)','constrained (D2)'], #['not constrained\\& shuffled','constrained\\& shuffled','constrained\\& not shuffled']\n",
    "    save=True, desc='Constrain_Comparison-MSE-sim_validation')"
   ]
  },
  {
   "cell_type": "code",
   "execution_count": null,
   "id": "df218462-0205-41b3-8e0a-7c0a555248d2",
   "metadata": {},
   "outputs": [],
   "source": [
    "evaluation_distance_const_shuffle.plot_experiment_predictions_with_std(\n",
    "    desc='Constrain_Comparison-MSE-sim_validation',thresh=1.0, save=True, \n",
    "    params={'loss':['not constrained (D1)','constrained (D2)']}, #['not constrained\\& shuffled','constrained\\& shuffled','constrained\\& not shuffled']}, \n",
    "    title=None, colors=['blue','red','green'])"
   ]
  },
  {
   "cell_type": "markdown",
   "id": "6aababf2-507d-40c0-b4aa-12456812382d",
   "metadata": {},
   "source": [
    "### End"
   ]
  },
  {
   "cell_type": "markdown",
   "id": "06a81330-a930-46ea-8a27-36c6979f8e09",
   "metadata": {},
   "source": [
    "### Comparison for shuffled vs. unshuffled with CCE"
   ]
  },
  {
   "cell_type": "code",
   "execution_count": null,
   "id": "41846602-6db1-4522-b531-5fc762e50927",
   "metadata": {
    "jupyter": {
     "source_hidden": true
    }
   },
   "outputs": [],
   "source": [
    "runs_map_distance = {\n",
    "\t'morphology': [['distance']],\n",
    "\t'algorithm': ['mlp2'],\n",
    "    'id_runs': [['64','86','85']]} # 77->79\n",
    "runs_map_distance_df = pd.DataFrame(runs_map_distance)\n",
    "evaluation_distance = Evaluation_Results(runs_map_distance_df, 'beta')"
   ]
  },
  {
   "cell_type": "code",
   "execution_count": null,
   "id": "99e13841-5a6c-4e68-8f54-c65cd70e24b9",
   "metadata": {
    "jupyter": {
     "source_hidden": true
    }
   },
   "outputs": [],
   "source": [
    "evaluation_distance.plot_histogramm_simulation(\n",
    "    labels=['not shuffled old','shuffled','not shuffled new'], \n",
    "    save=False, desc='Constrain_Shuffle_Comparison-MSE-sim_validation')"
   ]
  },
  {
   "cell_type": "code",
   "execution_count": null,
   "id": "e1b99fd8-223b-466a-b035-641bfbf9eef6",
   "metadata": {
    "jupyter": {
     "source_hidden": true
    }
   },
   "outputs": [],
   "source": [
    "evaluation_distance.plot_experiment_predictions_with_std(\n",
    "    desc='Constrain_Shuffle_Comparison-MSE-sim_validation',thresh=1.0, save=True, \n",
    "    params={'loss':['not shuffled old','shuffled','not shuffled new']}, \n",
    "    title=None, colors=['blue','red','green'])"
   ]
  },
  {
   "cell_type": "code",
   "execution_count": null,
   "id": "e4af718d-0982-46a4-9263-d5b351ac5ac5",
   "metadata": {
    "jupyter": {
     "source_hidden": true
    }
   },
   "outputs": [],
   "source": [
    "runs_map_radius_CCEexpVSreduced = {\n",
    "\t'morphology': [['radius']],\n",
    "\t'algorithm': ['mlp2'],\n",
    "    'id_runs': [['106','120']]}\n",
    "runs_map_radius_expVSreduced_df = pd.DataFrame(runs_map_radius_CCEexpVSreduced)\n",
    "evaluation_radius_expVSreduced = Evaluation_Results(runs_map_radius_expVSreduced_df, 'beta')"
   ]
  },
  {
   "cell_type": "code",
   "execution_count": null,
   "id": "82ff1029-420b-4dcc-af72-bc7eaa65175e",
   "metadata": {
    "jupyter": {
     "source_hidden": true
    }
   },
   "outputs": [],
   "source": [
    "evaluation_radius_expVSreduced.plot_experiment_predictions_with_std(desc='MSEvsCCEvsKLD-sim_validation-narrow_sigma-one_hot',thresh=0.5, save=False, params={'val':['exp','exp_reduced']}, title=None, colors=['blue','red'])"
   ]
  },
  {
   "cell_type": "markdown",
   "id": "fcd0d695-8caf-40a3-aaa9-a59372b4095d",
   "metadata": {},
   "source": [
    "### Comparison of loss functions using simulated data for validation"
   ]
  },
  {
   "cell_type": "code",
   "execution_count": null,
   "id": "9fd9572f-3195-4715-9d79-89f3ad210b46",
   "metadata": {
    "jupyter": {
     "source_hidden": true
    }
   },
   "outputs": [],
   "source": [
    "runs_map_radius_MSEvsCCEvsKLD_sim = {\n",
    "\t'morphology': [['radius']],\n",
    "\t'algorithm': ['mlp2'],\n",
    "    'id_runs': [['112','113','116']]}\n",
    "runs_map_radius_MSEvsCCE_sim_df = pd.DataFrame(runs_map_radius_MSEvsCCEvsKLD_sim)\n",
    "evaluation_radius_MSEvsCCE_sim = Evaluation_Results(runs_map_radius_MSEvsCCE_sim_df, 'beta')\n",
    "\n",
    "runs_map_distance_MSEvsCCEvsKLD_sim = {\n",
    "\t'morphology': [['distance']],\n",
    "\t'algorithm': ['mlp2'],\n",
    "    'id_runs': [['53','52','51']]}\n",
    "runs_map_distance_MSEvsCCE_sim_df = pd.DataFrame(runs_map_distance_MSEvsCCEvsKLD_sim)\n",
    "evaluation_distance_MSEvsCCE_sim = Evaluation_Results(runs_map_distance_MSEvsCCE_sim_df, 'beta')"
   ]
  },
  {
   "cell_type": "code",
   "execution_count": null,
   "id": "afb7104f-b375-40a2-b68e-8ab5d6c4ea91",
   "metadata": {},
   "outputs": [],
   "source": [
    "evaluation_radius_MSEvsCCE_sim.plot_histogramm_simulation(labels=['$\\mathcal{{L}}_{{MSE}}$','$\\mathcal{{L}}_{{CCE}}$','$\\mathcal{{L}}_{{KLD}}$'], save=False, desc='Loss_Function_Comparison-sim_validation')"
   ]
  },
  {
   "cell_type": "code",
   "execution_count": null,
   "id": "81722252-6f8e-4bf7-9652-605fac7ae609",
   "metadata": {
    "scrolled": true
   },
   "outputs": [],
   "source": [
    "evaluation_radius_MSEvsCCE.plot_experiment_predictions_with_std(desc='MSEvsCCEvsKLD-sim_validation-narrow_sigma-one_hot',thresh=0.5, save=False, params={'Model':['$\\mathcal{{L}}_{{MSE}}$','$\\mathcal{{L}}_{{CCE}}$','$\\mathcal{{L}}_{{KLD}}$']}, title=None, colors=['blue','red','green'])"
   ]
  },
  {
   "cell_type": "code",
   "execution_count": null,
   "id": "9b0e5f1f-6d0b-48c9-a05b-6dc5799942c5",
   "metadata": {},
   "outputs": [],
   "source": [
    "evaluation_distance_MSEvsCCE_sim.plot_histogramm_simulation(labels=['$\\mathcal{{L}}_{{MSE}}$','$\\mathcal{{L}}_{{CCE}}$','$\\mathcal{{L}}_{{KLD}}$'],save=False, desc='Loss_Function_Comparison-sim_validation')"
   ]
  },
  {
   "cell_type": "code",
   "execution_count": null,
   "id": "263d7e23-de4e-4ae9-bd96-bf42e3c2c976",
   "metadata": {},
   "outputs": [],
   "source": [
    "evaluation_distance_MSEvsCCE_sim.plot_experiment_predictions_with_std(desc='MSE-vs-CCE_sim-validation_narrow-sigma_one-hot',thresh=0.5, save=False, params={'loss':['$\\mathcal{{L}}_{{MSE}}$','$\\mathcal{{L}}_{{CCE}}$','$\\mathcal{{L}}_{{KLD}}$']}, title='$\\mathcal{{L}}_{{MSE}}$ vs. $\\mathcal{{L}}_{{CCE}}$ vs. $\\mathcal{{L}}_{{KLD}}$', colors=['blue','red','green'])"
   ]
  },
  {
   "cell_type": "markdown",
   "id": "d17ad100-a0c1-4a2a-9a8d-74c35cf596cc",
   "metadata": {},
   "source": [
    "### Comparison of loss functions using experiment data for validation"
   ]
  },
  {
   "cell_type": "code",
   "execution_count": null,
   "id": "935585f9-e7df-476c-b92e-bda4ca783718",
   "metadata": {},
   "outputs": [],
   "source": [
    "runs_map_radius_MSEvsCCEvsKLD = {\n",
    "\t'morphology': [['radius']],\n",
    "\t'algorithm': ['mlp2'],\n",
    "    'id_runs': [['107','106','121']]}\n",
    "runs_map_radius_MSEvsCCE_df = pd.DataFrame(runs_map_radius_MSEvsCCEvsKLD)\n",
    "evaluation_radius_MSEvsCCE = Evaluation_Results(runs_map_radius_MSEvsCCE_df, 'beta')\n",
    "\n",
    "runs_map_distance_MSEvsCCEvsKLD = {\n",
    "\t'morphology': [['distance']],\n",
    "\t'algorithm': ['mlp2'],\n",
    "    'id_runs': [['1','11','12']]}\n",
    "runs_map_distance_MSEvsCCE_df = pd.DataFrame(runs_map_distance_MSEvsCCEvsKLD)\n",
    "evaluation_distance_MSEvsCCE = Evaluation_Results(runs_map_distance_MSEvsCCE_df, 'beta')"
   ]
  },
  {
   "cell_type": "code",
   "execution_count": null,
   "id": "8a47b45e-f3fa-4756-8491-f28d4ba279bc",
   "metadata": {},
   "outputs": [],
   "source": [
    "evaluation_distance_MSEvsCCE.plot_histogramm_simulation(labels=['$\\mathcal{{L}}_{{MSE}}$','$\\mathcal{{L}}_{{CCE}}$','$\\mathcal{{L}}_{{KLD}}$'], save=False, desc='Loss_Function_Comparison-sim_validation')"
   ]
  },
  {
   "cell_type": "code",
   "execution_count": null,
   "id": "2db6b5e0-563d-41f3-b679-51c757e7e78b",
   "metadata": {},
   "outputs": [],
   "source": [
    "evaluation_radius_MSEvsCCE.plot_experiment_predictions_with_std(desc='MSE-vs-CCE_sim-validation_narrow-sigma_one-hot',thresh=0.5, save=False, params={'loss':['$\\mathcal{{L}}_{{MSE}}$','$\\mathcal{{L}}_{{CCE}}$','$\\mathcal{{L}}_{{KLD}}$']}, title='$\\mathcal{{L}}_{{MSE}}$ vs. $\\mathcal{{L}}_{{CCE}}$ vs. $\\mathcal{{L}}_{{KLD}}$', colors=['blue','red','green'])"
   ]
  },
  {
   "cell_type": "code",
   "execution_count": null,
   "id": "b05f1018-ecff-4a8a-b93e-cb1511d2032e",
   "metadata": {},
   "outputs": [],
   "source": []
  },
  {
   "cell_type": "code",
   "execution_count": null,
   "id": "ab08642b-c94c-41f3-8a55-e0f9c5defb2f",
   "metadata": {},
   "outputs": [],
   "source": [
    "diff = np.array([0.1, -0.2, 0.3, -0.4])\n",
    "np.maximum(-diff, 0)"
   ]
  },
  {
   "cell_type": "code",
   "execution_count": null,
   "id": "56874881-c457-4da3-b837-2c0efe00bfc4",
   "metadata": {},
   "outputs": [],
   "source": [
    "runs_map = {\n",
    "\t'morphology': [['radius'], ['radius'], ['distance'], ['distance']],\n",
    "\t'algorithm': ['mlp2', 'cnn2', 'mlp2', 'cnn2'],\n",
    "    'id_runs': [['0','3','4','5','6'],['0','1'],['0'],['0']]}\n",
    "runs_map = {\n",
    "\t'morphology': [['radius'],  ['distance']],\n",
    "\t'algorithm': ['mlp2', 'mlp2'],\n",
    "    'id_runs': [['21','25','28','29','30','31','32','33','34','36','38','39','40','41','42','43','44','45','46','47','48','49','50','51','53','54','55','56','57','58'], ['1','3','4','5','6','8','9','10','11','12']]}\n",
    "runs_map_df = pd.DataFrame(runs_map)\n"
   ]
  },
  {
   "cell_type": "code",
   "execution_count": null,
   "id": "0ac4000c-43fc-4922-8925-6b793df9e752",
   "metadata": {},
   "outputs": [],
   "source": [
    "runs_map_cce = {\n",
    "\t'morphology': [['radius']],\n",
    "\t'algorithm': ['mlp2'],\n",
    "    'id_runs': [['25','38','45','51']]}\n",
    "runs_map_cce_df = pd.DataFrame(runs_map_cce)\n",
    "evaluation_cce = Evaluation_Results(runs_map_cce_df, 'loss')"
   ]
  },
  {
   "cell_type": "code",
   "execution_count": null,
   "id": "6582ab4c-a238-4a7d-b3a8-21cc95c500d9",
   "metadata": {},
   "outputs": [],
   "source": [
    "runs_map_kld = {\n",
    "\t'morphology': [['radius']],\n",
    "\t'algorithm': ['mlp2'],\n",
    "    'id_runs': [['41','39','43']]}\n",
    "runs_map_kld_df = pd.DataFrame(runs_map_kld)\n",
    "evaluation_kld = Evaluation_Results(runs_map_kld_df, 'loss')"
   ]
  },
  {
   "cell_type": "code",
   "execution_count": null,
   "id": "44546885-1dac-47d0-9db2-24be6394183b",
   "metadata": {},
   "outputs": [],
   "source": [
    "runs_map_pen = {\n",
    "\t'morphology': [['radius']],\n",
    "\t'algorithm': ['mlp2'],\n",
    "    'id_runs': [['45','46','47','48']]}\n",
    "runs_map_pen_df = pd.DataFrame(runs_map_pen)\n",
    "evaluation_pen = Evaluation_Results(runs_map_pen_df, 'loss')"
   ]
  },
  {
   "cell_type": "code",
   "execution_count": null,
   "id": "7d0fc947-f698-4fcb-93d2-ebe0b645f7a9",
   "metadata": {},
   "outputs": [],
   "source": [
    "runs_map_pen_onehot = {\n",
    "\t'morphology': [['radius']],\n",
    "\t'algorithm': ['mlp2'],\n",
    "    'id_runs': [['49','50','51']]}\n",
    "runs_map_pen_onehot_df = pd.DataFrame(runs_map_pen)\n",
    "evaluation_pen_onehot = Evaluation_Results(runs_map_pen_onehot_df, 'loss')"
   ]
  },
  {
   "cell_type": "code",
   "execution_count": null,
   "id": "4baa6bd0-d5f7-45fd-8253-9dd57c98ffa4",
   "metadata": {},
   "outputs": [],
   "source": [
    "runs_map_pen2_onehot = {\n",
    "\t'morphology': [['radius']],\n",
    "\t'algorithm': ['mlp2'],\n",
    "    'id_runs': [['21','25','36','50','51','49']]}\n",
    "runs_map_pen2_onehot_df = pd.DataFrame(runs_map_pen2_onehot)\n",
    "evaluation_pen2_onehot = Evaluation_Results(runs_map_pen2_onehot_df, 'loss')"
   ]
  },
  {
   "cell_type": "code",
   "execution_count": null,
   "id": "e0270ac3-0475-444a-acdd-7d76e3836fd3",
   "metadata": {},
   "outputs": [],
   "source": [
    "runs_map_pen3_onehot = {\n",
    "\t'morphology': [['radius']],\n",
    "\t'algorithm': ['mlp2'],\n",
    "    'id_runs': [['21','25','36','54','53','55']]}\n",
    "runs_map_pen3_onehot_df = pd.DataFrame(runs_map_pen3_onehot)\n",
    "evaluation_pen3_onehot = Evaluation_Results(runs_map_pen3_onehot_df, 'loss')"
   ]
  },
  {
   "cell_type": "code",
   "execution_count": null,
   "id": "5b572a72-6b72-4968-92f0-8d2aba19e00e",
   "metadata": {},
   "outputs": [],
   "source": [
    "runs_map_pen1_onehot = {\n",
    "\t'morphology': [['radius']],\n",
    "\t'algorithm': ['mlp2'],\n",
    "    'id_runs': [['21','25','36','28','29','30']]}\n",
    "runs_map_pen1_onehot_df = pd.DataFrame(runs_map_pen1_onehot)\n",
    "evaluation_pen1_onehot = Evaluation_Results(runs_map_pen1_onehot_df, 'loss')"
   ]
  },
  {
   "cell_type": "code",
   "execution_count": null,
   "id": "794fdbef-60c2-4b67-afd4-b7b1e10f6e72",
   "metadata": {},
   "outputs": [],
   "source": [
    "runs_map_pen1_lognorm = {\n",
    "\t'morphology': [['radius']],\n",
    "\t'algorithm': ['mlp2'],\n",
    "    'id_runs': [['21','25','36','28','29','30']]}\n",
    "runs_map_pen1_onehot_df = pd.DataFrame(runs_map_pen1_onehot)\n",
    "evaluation_pen1_onehot = Evaluation_Results(runs_map_pen1_onehot_df, 'loss')"
   ]
  },
  {
   "cell_type": "code",
   "execution_count": null,
   "id": "378d0478-b380-49ba-a473-7314e128b06b",
   "metadata": {},
   "outputs": [],
   "source": [
    "runs_map_beta = {\n",
    "\t'morphology': [['radius']],\n",
    "\t'algorithm': ['mlp2'],\n",
    "    'id_runs': [['67','68','69','70']]}\n",
    "runs_map_beta_df = pd.DataFrame(runs_map_beta)\n",
    "evaluation_beta = Evaluation_Results(runs_map_beta_df, 'loss')"
   ]
  },
  {
   "cell_type": "code",
   "execution_count": null,
   "id": "ceba7fed-ad6b-4c73-958a-80006bd7284b",
   "metadata": {},
   "outputs": [],
   "source": [
    "runs_map_global_threshs = {\n",
    "\t'morphology': [['radius']],\n",
    "\t'algorithm': ['mlp2'],\n",
    "    'id_runs': [['70','72','73']]}\n",
    "runs_map_global_threshs_df = pd.DataFrame(runs_map_global_threshs)\n",
    "evaluation_global = Evaluation_Results(runs_map_global_threshs_df, 'loss')"
   ]
  },
  {
   "cell_type": "code",
   "execution_count": null,
   "id": "123528c1-a598-4bf1-922a-8a3223861b89",
   "metadata": {},
   "outputs": [],
   "source": [
    "runs_map_global_threshs = {\n",
    "\t'morphology': [['radius']],\n",
    "\t'algorithm': ['mlp2'],\n",
    "    'id_runs': [['74','75']]}\n",
    "runs_map_global_threshs_df = pd.DataFrame(runs_map_global_threshs)\n",
    "evaluation_global = Evaluation_Results(runs_map_global_threshs_df, 'loss')"
   ]
  },
  {
   "cell_type": "code",
   "execution_count": null,
   "id": "63eae240-abd1-4d41-9fd0-9bdc6b114917",
   "metadata": {},
   "outputs": [],
   "source": [
    "runs_map_betas_mono = {\n",
    "\t'morphology': [['radius'],['distance']],\n",
    "\t'algorithm': ['mlp2','mlp2'],\n",
    "    'id_runs': [['87','98','99','97','101','100'],['25','24','23','22','20','21']]}\n",
    "runs_map_betas_mono_df = pd.DataFrame(runs_map_betas_mono)\n",
    "evaluation_beta_mono = Evaluation_Results(runs_map_betas_mono_df, 'beta')"
   ]
  },
  {
   "cell_type": "code",
   "execution_count": null,
   "id": "ef9aad21-e172-440b-801e-650ace3dff6d",
   "metadata": {},
   "outputs": [],
   "source": [
    "runs_map_betas = {\n",
    "\t'morphology': [['radius'],['distance']],\n",
    "\t'algorithm': ['mlp2','mlp2'],\n",
    "    'id_runs': [['21','105','25','103','36','102'],['1','27','11','26','12','28']]}\n",
    "runs_map_betas_df = pd.DataFrame(runs_map_betas)\n",
    "evaluation_beta = Evaluation_Results(runs_map_betas_df, 'beta')"
   ]
  },
  {
   "cell_type": "code",
   "execution_count": null,
   "id": "b30f7024-12c4-41c2-82fb-d99dc8bf2272",
   "metadata": {},
   "outputs": [],
   "source": [
    "runs_map_global_threshs = {\n",
    "\t'morphology': [['radius'],['distance']],\n",
    "\t'algorithm': ['mlp2','mlp2'],\n",
    "    'id_runs': [[],['16','17','18','19']]}\n",
    "runs_map_global_threshs_df = pd.DataFrame(runs_map_global_threshs)\n",
    "evaluation_global = Evaluation_Results(runs_map_global_threshs_df, 'beta')"
   ]
  },
  {
   "cell_type": "code",
   "execution_count": null,
   "id": "e77e4d59-02fd-4af1-ab98-61bcf141fc6c",
   "metadata": {},
   "outputs": [],
   "source": [
    "runs_map_informed = {\n",
    "\t'morphology': [['distance']],\n",
    "\t'algorithm': ['mlp2'],\n",
    "    'id_runs': [['11','15','23','26','17','22','35','36','37']]}\n",
    "runs_map_informed_df = pd.DataFrame(runs_map_informed)\n",
    "evaluation_informed = Evaluation_Results(runs_map_informed_df, 'beta')"
   ]
  },
  {
   "cell_type": "code",
   "execution_count": null,
   "id": "654aaaff-4a90-48bf-9b55-0695253fee0c",
   "metadata": {},
   "outputs": [],
   "source": [
    "runs_map_distance_MSEvsCCE = {\n",
    "\t'morphology': [['distance']],\n",
    "\t'algorithm': ['mlp2'],\n",
    "    'id_runs': [['1','11']]}\n",
    "runs_map_distance_MSEvsCCE_df = pd.DataFrame(runs_map_distance_MSEvsCCE)\n",
    "evaluation_distance_mseVScce = Evaluation_Results(runs_map_distance_MSEvsCCE_df, 'beta')"
   ]
  },
  {
   "cell_type": "code",
   "execution_count": null,
   "id": "7f47d25c-d22f-4d8f-acc6-8b2b38767f53",
   "metadata": {},
   "outputs": [],
   "source": [
    "evaluation_distance_mseVScce.plot_simulation_predictions_with_std(desc='mseVScce_narrow-sigma_one-hot',thresh=1.0, save=False, params={'loss':['MSE','CCE']})#{'$\\gamma$':[1e-5,1e-3,1e-1]}"
   ]
  },
  {
   "cell_type": "code",
   "execution_count": null,
   "id": "5cf655fb-5a9d-4d36-aa79-e4e66a876735",
   "metadata": {},
   "outputs": [],
   "source": [
    "runs_map_distance_info_CCE = {\n",
    "\t'morphology': [['distance']],\n",
    "\t'algorithm': ['mlp2'],\n",
    "    'id_runs': [['11','36','35']]}\n",
    "runs_map_distance_info_CCE_df = pd.DataFrame(runs_map_distance_info_CCE)\n",
    "evaluation_distance_infoCCE = Evaluation_Results(runs_map_distance_info_CCE_df, 'beta')"
   ]
  },
  {
   "cell_type": "code",
   "execution_count": null,
   "id": "56b87afc-5248-4ea0-9210-ef5db6d05cb6",
   "metadata": {},
   "outputs": [],
   "source": [
    "runs_map_distance_mono_CCE = {\n",
    "\t'morphology': [['distance']],\n",
    "\t'algorithm': ['mlp2'],\n",
    "    'id_runs': [['11','15','36']]}\n",
    "runs_map_distance_mono_CCE_df = pd.DataFrame(runs_map_distance_mono_CCE)\n",
    "evaluation_distance_monoCCE = Evaluation_Results(runs_map_distance_mono_CCE_df, 'beta')"
   ]
  },
  {
   "cell_type": "code",
   "execution_count": null,
   "id": "100cc3c8-763a-45d7-81b7-6a1a1004653a",
   "metadata": {},
   "outputs": [],
   "source": [
    "runs_map_radius_mono_CCE = {\n",
    "\t'morphology': [['radius']],\n",
    "\t'algorithm': ['mlp2'],\n",
    "    'id_runs': [['106','99','89']]}\n",
    "runs_map_radius_mono_CCE_df = pd.DataFrame(runs_map_radius_mono_CCE)\n",
    "evaluation_radius_monoCCE = Evaluation_Results(runs_map_radius_mono_CCE_df, 'beta')"
   ]
  },
  {
   "cell_type": "code",
   "execution_count": null,
   "id": "5637980e-9a73-4f91-9a2c-1a9323145cf9",
   "metadata": {},
   "outputs": [],
   "source": [
    "evaluation_radius_MSEvsCCE_sim.plot_experiment_predictions_with_std(desc='MSE-vs-CCE_sim-validation_narrow-sigma_one-hot',thresh=0.5, save=False, params={'loss':['$\\mathcal{{L}}_{{MSE}}$','$\\mathcal{{L}}_{{CCE}}$']}, title='$\\mathcal{{L}}_{{MSE}}$ vs. $\\mathcal{{L}}_{{CCE}}$', colors=['blue','green'])"
   ]
  },
  {
   "cell_type": "code",
   "execution_count": null,
   "id": "a581184c-b25b-4201-858e-95faa41f7b4a",
   "metadata": {},
   "outputs": [],
   "source": [
    "evaluation_radius_MSEvsCCE_sim.plot_simulation_predictions_with_std(desc='MSE-vs-CCE_sim-validation_narrow-sigma_one-hot',thresh=0.5, save=False, params={'loss':['$\\mathcal{{L}}_{{MSE}}$','$\\mathcal{{L}}_{{CCE}}$']}, title='$\\mathcal{{L}}_{{MSE}}$ vs. $\\mathcal{{L}}_{{CCE}}$')"
   ]
  },
  {
   "cell_type": "code",
   "execution_count": null,
   "id": "23dfb31f-aa80-4acc-a471-e0c01c3e23c4",
   "metadata": {},
   "outputs": [],
   "source": [
    "evaluation_radius_monoCCE.plot_experiment_predictions_with_std(desc='informed-cce_narrow-sigma_one-hot',thresh=0.5, save=False, params={'$\\gamma$':[0,1e-5,1e-3]}, title='loss: $\\mathcal{{L}}_{{CCE}}+\\gamma R_{{mono}}$') #'loss: $\\mathcal{{L}}_{{CCE}}+10*R_{{info}}+\\gamma*R_{{mono}}$'"
   ]
  },
  {
   "cell_type": "code",
   "execution_count": null,
   "id": "12b3ed29-da80-40c5-b883-97825239a88b",
   "metadata": {},
   "outputs": [],
   "source": [
    "runs_map_distance_monoVSinfoCCE = {\n",
    "\t'morphology': [['distance']],\n",
    "\t'algorithm': ['mlp2'],\n",
    "    'id_runs': [['11','15','36']]}\n",
    "runs_map_distance_monoVSinfoCCE_df = pd.DataFrame(runs_map_distance_monoVSinfoCCE)\n",
    "evaluation_distance_monoVSinfoCCE = Evaluation_Results(runs_map_distance_monoVSinfoCCE_df, 'beta')"
   ]
  },
  {
   "cell_type": "code",
   "execution_count": null,
   "id": "3151b89c-8ab3-4c6b-86eb-1aa4b5878cab",
   "metadata": {},
   "outputs": [],
   "source": [
    "runs_map_distance_monoANDinfoCCE = {\n",
    "\t'morphology': [['distance']],\n",
    "\t'algorithm': ['mlp2'],\n",
    "    'id_runs': [['45','44']]}\n",
    "runs_map_distance_monoANDinfoCCE_df = pd.DataFrame(runs_map_distance_monoANDinfoCCE)\n",
    "evaluation_distance_monoANDinfoCCE = Evaluation_Results(runs_map_distance_monoANDinfoCCE_df, 'beta')"
   ]
  },
  {
   "cell_type": "raw",
   "id": "967c6a56-c963-4727-835b-bf20524201c8",
   "metadata": {},
   "source": [
    "evaluation_distance_monoANDinfoCCE.plot_experiment_predictions_with_std(desc='informedANDmono-cce_narrow-sigma_one-hot_1-0thresh',thresh=1, save=True, params={'$\\gamma$':[0,1]})#{'penalty':[0,'$R_{{mono}}$','$R_{{info}}$']})"
   ]
  },
  {
   "cell_type": "code",
   "execution_count": null,
   "id": "ada11245-77fd-493a-9bc1-1c6b311e002a",
   "metadata": {},
   "outputs": [],
   "source": [
    "evaluation_distance_monoVSinfoCCE.plot_simulation_predictions_with_std(desc='informed-cce_narrow-sigma_one-hot',thresh=1, save=False, params={'$\\gamma$':[0,1e-3,1e-5]})"
   ]
  },
  {
   "cell_type": "code",
   "execution_count": null,
   "id": "3ee752fa-b1d0-46f0-9b98-de88adda87ad",
   "metadata": {},
   "outputs": [],
   "source": [
    "for i in ['35','36','37']:\n",
    "    evaluation_informed.plot_experiment_predictions_with_std(desc='informed_cce_narrow-sigma_one-hot',thresh=1.0, runs=[i], save=True)"
   ]
  },
  {
   "cell_type": "code",
   "execution_count": null,
   "id": "d8ebcf94-4ad4-41ea-8327-df5aba0d0c26",
   "metadata": {},
   "outputs": [],
   "source": [
    "evaluation = Evaluation_Results(runs_map_df, 'loss')"
   ]
  },
  {
   "cell_type": "code",
   "execution_count": null,
   "id": "54122dff-cbac-4ba2-97ab-1bd0161baaae",
   "metadata": {},
   "outputs": [],
   "source": [
    "runs_map_dist = {\n",
    "\t'morphology': [['distance']],\n",
    "\t'algorithm': ['mlp2'],\n",
    "    'id_runs': [['1','3','4','5','6','8','9','10','11','12','14','15','16','17']]}\n",
    "runs_map_dist_df = pd.DataFrame(runs_map_dist)\n",
    "evaluation_dist = Evaluation_Results(runs_map_dist_df, 'loss')"
   ]
  },
  {
   "cell_type": "code",
   "execution_count": null,
   "id": "29520a49-f514-471a-8596-cc2dd07a94ec",
   "metadata": {},
   "outputs": [],
   "source": [
    "for run in evaluation_informed.runs:\n",
    "    print(run.id, run.param_to_compare)\n",
    "    \n",
    "    run.estimate_accuracy()"
   ]
  },
  {
   "cell_type": "code",
   "execution_count": null,
   "id": "322c6844-167f-4296-8ee3-3717e580b2de",
   "metadata": {},
   "outputs": [],
   "source": [
    "evaluation_kld.plot_experiment_predictions(single_runs=False, single_measurement=True, desc='regular-loss_narrow-sigma',save=False)#runs=['32','34'],save=False)"
   ]
  },
  {
   "cell_type": "code",
   "execution_count": null,
   "id": "feea2e50-3c7b-4e25-9f4a-8070bc1ea4c3",
   "metadata": {},
   "outputs": [],
   "source": [
    "evaluation.plot_experiment_predictions(single_runs=False, single_measurement=True, runs=['29','38'], desc='regular-loss_narrow-sigma',save=False)#runs=['32','34'],save=False)"
   ]
  },
  {
   "cell_type": "code",
   "execution_count": null,
   "id": "96178b44-fad0-4c92-bd1b-8346fcbe3e8a",
   "metadata": {},
   "outputs": [],
   "source": [
    "for i in ['11','15','23','26','17','22','35','36','37']:\n",
    "    evaluation_informed.plot_simulation_predictions_with_std(runs=[i],thresh=1.0)"
   ]
  },
  {
   "cell_type": "code",
   "execution_count": null,
   "id": "bff326b9-aa55-4371-b1bc-4156bbc83680",
   "metadata": {},
   "outputs": [],
   "source": [
    "evaluation_global.plot_experiment_prediction_2R_to_D_sidebyside(single_plots=False, single_experiments=False)"
   ]
  },
  {
   "cell_type": "code",
   "execution_count": null,
   "id": "3f8fac77-2cb7-4605-9b6f-ca071c124dcb",
   "metadata": {},
   "outputs": [],
   "source": [
    "only_new_runs = ['21']\n",
    "evaluation.plot_experiment_prediction_2R_to_D_sidebyside(runs=only_new_runs, single_plots=False, single_experiments=False)"
   ]
  },
  {
   "cell_type": "code",
   "execution_count": null,
   "id": "53c35544-d660-4ab1-8d90-eb7e8cbeacb3",
   "metadata": {},
   "outputs": [],
   "source": [
    "evaluation.plot_experiment_prediction_2R_to_D_sidebyside(runs=only_new_runs, single_plots=True, single_experiments=False)"
   ]
  }
 ],
 "metadata": {
  "kernelspec": {
   "display_name": "Python 3 (ipykernel)",
   "language": "python",
   "name": "python3"
  },
  "language_info": {
   "codemirror_mode": {
    "name": "ipython",
    "version": 3
   },
   "file_extension": ".py",
   "mimetype": "text/x-python",
   "name": "python",
   "nbconvert_exporter": "python",
   "pygments_lexer": "ipython3",
   "version": "3.11.7"
  }
 },
 "nbformat": 4,
 "nbformat_minor": 5
}
